{
  "nbformat": 4,
  "nbformat_minor": 0,
  "metadata": {
    "colab": {
      "name": "Banking_Marketing_Effectiveness_Prediction.ipynb",
      "provenance": [],
      "collapsed_sections": [],
      "authorship_tag": "ABX9TyOW4Fg+6NC3BaJ9Cx1GXJ1E",
      "include_colab_link": true
    },
    "kernelspec": {
      "name": "python3",
      "display_name": "Python 3"
    },
    "language_info": {
      "name": "python"
    }
  },
  "cells": [
    {
      "cell_type": "markdown",
      "metadata": {
        "id": "view-in-github",
        "colab_type": "text"
      },
      "source": [
        "<a href=\"https://colab.research.google.com/github/sspaulc/Marketing_Campaign_Effectiveness_Prediction/blob/main/Banking_Marketing_Effectiveness_Prediction.ipynb\" target=\"_parent\"><img src=\"https://colab.research.google.com/assets/colab-badge.svg\" alt=\"Open In Colab\"/></a>"
      ]
    },
    {
      "cell_type": "markdown",
      "metadata": {
        "id": "Hqf-jLiN-jiC"
      },
      "source": [
        "# **Problem Description**\n",
        "\n",
        "## The data is related with direct marketing campaigns (phone calls) of a Portuguese banking institution. The marketing campaigns were based on phone calls. Often, more than one contact to the same client was required, in order to access if the product (bank term deposit) would be ('yes') or not ('no') subscribed. The classification goal is to predict if the client will subscribe a term deposit (variable y)."
      ]
    },
    {
      "cell_type": "markdown",
      "metadata": {
        "id": "7fFebhkc-rID"
      },
      "source": [
        "# **Data Description**\n",
        "\n",
        "Input variables:\n",
        "\n",
        "Bank Client data:\n",
        "\n",
        "age (numeric)\n",
        "job : type of job (categorical: 'admin.','blue-collar','entrepreneur','housemaid','management','retired','self-employed','services','student','technician','unemployed','unknown')\n",
        "\n",
        "marital : marital status (categorical: 'divorced','married','single','unknown'; note: 'divorced' means divorced or widowed)\n",
        "\n",
        "education (categorical: 'basic.4y','basic.6y','basic.9y','high.school','illiterate','professional.course','university.degree','unknown')\n",
        "\n",
        "default: has credit in default? (categorical: 'no','yes','unknown')\n",
        "\n",
        "housing: has housing loan? (categorical: 'no','yes','unknown')\n",
        "\n",
        "loan: has personal loan? (categorical: 'no','yes','unknown')\n",
        "\n",
        "Related with the last contact of the current campaign:\n",
        "\n",
        "contact: contact communication type (categorical: 'cellular','telephone')\n",
        "\n",
        "month: last contact month of year (categorical: 'jan', 'feb', 'mar', ..., 'nov', 'dec')\n",
        "\n",
        "day_of_week: last contact day of the week (categorical: 'mon','tue','wed','thu','fri')\n",
        "\n",
        "duration: last contact duration, in seconds (numeric). Important note: this attribute highly affects the output target (e.g., if duration=0 then y='no'). Yet, the duration is not known before a call is performed. Also, after the end of the call y is obviously known. Thus, this input should only be included for benchmark purposes and should be discarded if the intention is to have a realistic predictive model.\n",
        "\n",
        "Other attributes:\n",
        "\n",
        "campaign: number of contacts performed during this campaign and for this client (numeric, includes last contact)\n",
        "\n",
        "pdays: number of days that passed by after the client was last contacted from a previous campaign (numeric; 999 means client was not previously contacted)\n",
        "\n",
        "previous: number of contacts performed before this campaign and for this client (numeric)\n",
        "\n",
        "poutcome: outcome of the previous marketing campaign (categorical: 'failure','nonexistent','success')\n",
        "\n",
        "Social and economic context attributes\n",
        "\n",
        "emp.var.rate: employment variation rate - quarterly indicator (numeric)\n",
        "\n",
        "cons.price.idx: consumer price index - monthly indicator (numeric)\n",
        "\n",
        "cons.conf.idx: consumer confidence index - monthly indicator (numeric)\n",
        "\n",
        "euribor3m: euribor 3 month rate - daily indicator (numeric)\n",
        "\n",
        "nr.employed: number of employees - quarterly indicator (numeric)\n",
        "\n",
        "Output variable (desired target):\n",
        "\n",
        "y - has the client subscribed a term deposit? (binary: 'yes','no')"
      ]
    },
    {
      "cell_type": "markdown",
      "metadata": {
        "id": "T7Pxt5hZA7yc"
      },
      "source": [
        "# **Data Collection:**"
      ]
    },
    {
      "cell_type": "code",
      "metadata": {
        "colab": {
          "base_uri": "https://localhost:8080/"
        },
        "id": "vaR7DRSG-Mvi",
        "outputId": "3fbe8fb1-51a5-4c36-e0a6-ef149eb47b22"
      },
      "source": [
        "from google.colab import drive\n",
        "drive.mount('/content/drive')"
      ],
      "execution_count": null,
      "outputs": [
        {
          "output_type": "stream",
          "text": [
            "Mounted at /content/drive\n"
          ],
          "name": "stdout"
        }
      ]
    },
    {
      "cell_type": "code",
      "metadata": {
        "id": "WivnKPdAC5cZ"
      },
      "source": [
        "import pandas as pd\n",
        "\n",
        "import numpy as np"
      ],
      "execution_count": null,
      "outputs": []
    },
    {
      "cell_type": "code",
      "metadata": {
        "id": "K2D_V6cSBCb6"
      },
      "source": [
        "dataset= pd.read_csv(\"/content/drive/MyDrive/AlmaBetter/Almabetter/Capstone Projects/bank-full.csv\")"
      ],
      "execution_count": null,
      "outputs": []
    },
    {
      "cell_type": "code",
      "metadata": {
        "id": "8f_0O0qyC4MC"
      },
      "source": [
        "# @title Importing data in a readable format\n",
        "extract = (lambda x : [c.replace('\"','').replace('\"','') for c in x.split(';')])\n",
        "cols = extract(dataset.columns[0])\n",
        "data = dataset.iloc[:,0].apply(extract)\n",
        "# Converting Data To Numeric\n",
        "def convert_numeric(dat):\n",
        "  new_samples=[]\n",
        "  for sample in dat:\n",
        "    for i,feature in enumerate(sample):\n",
        "      try:\n",
        "        sample[i] = int(feature)\n",
        "      except:\n",
        "        continue\n",
        "    new_samples.append(sample)\n",
        "  return new_samples\n",
        "data_new = convert_numeric(data.values)\n",
        "df = pd.DataFrame(data=data_new,columns=cols)\n",
        "del dataset,data,data_new"
      ],
      "execution_count": null,
      "outputs": []
    },
    {
      "cell_type": "code",
      "metadata": {
        "colab": {
          "base_uri": "https://localhost:8080/",
          "height": 202
        },
        "id": "2J3KUuy6DaB5",
        "outputId": "0cf536f3-d6f0-4f72-a4d5-f57d91e5c695"
      },
      "source": [
        "df.head(5)"
      ],
      "execution_count": null,
      "outputs": [
        {
          "output_type": "execute_result",
          "data": {
            "text/html": [
              "<div>\n",
              "<style scoped>\n",
              "    .dataframe tbody tr th:only-of-type {\n",
              "        vertical-align: middle;\n",
              "    }\n",
              "\n",
              "    .dataframe tbody tr th {\n",
              "        vertical-align: top;\n",
              "    }\n",
              "\n",
              "    .dataframe thead th {\n",
              "        text-align: right;\n",
              "    }\n",
              "</style>\n",
              "<table border=\"1\" class=\"dataframe\">\n",
              "  <thead>\n",
              "    <tr style=\"text-align: right;\">\n",
              "      <th></th>\n",
              "      <th>age</th>\n",
              "      <th>job</th>\n",
              "      <th>marital</th>\n",
              "      <th>education</th>\n",
              "      <th>default</th>\n",
              "      <th>balance</th>\n",
              "      <th>housing</th>\n",
              "      <th>loan</th>\n",
              "      <th>contact</th>\n",
              "      <th>day</th>\n",
              "      <th>month</th>\n",
              "      <th>duration</th>\n",
              "      <th>campaign</th>\n",
              "      <th>pdays</th>\n",
              "      <th>previous</th>\n",
              "      <th>poutcome</th>\n",
              "      <th>y</th>\n",
              "    </tr>\n",
              "  </thead>\n",
              "  <tbody>\n",
              "    <tr>\n",
              "      <th>0</th>\n",
              "      <td>58</td>\n",
              "      <td>management</td>\n",
              "      <td>married</td>\n",
              "      <td>tertiary</td>\n",
              "      <td>no</td>\n",
              "      <td>2143</td>\n",
              "      <td>yes</td>\n",
              "      <td>no</td>\n",
              "      <td>unknown</td>\n",
              "      <td>5</td>\n",
              "      <td>may</td>\n",
              "      <td>261</td>\n",
              "      <td>1</td>\n",
              "      <td>-1</td>\n",
              "      <td>0</td>\n",
              "      <td>unknown</td>\n",
              "      <td>no</td>\n",
              "    </tr>\n",
              "    <tr>\n",
              "      <th>1</th>\n",
              "      <td>44</td>\n",
              "      <td>technician</td>\n",
              "      <td>single</td>\n",
              "      <td>secondary</td>\n",
              "      <td>no</td>\n",
              "      <td>29</td>\n",
              "      <td>yes</td>\n",
              "      <td>no</td>\n",
              "      <td>unknown</td>\n",
              "      <td>5</td>\n",
              "      <td>may</td>\n",
              "      <td>151</td>\n",
              "      <td>1</td>\n",
              "      <td>-1</td>\n",
              "      <td>0</td>\n",
              "      <td>unknown</td>\n",
              "      <td>no</td>\n",
              "    </tr>\n",
              "    <tr>\n",
              "      <th>2</th>\n",
              "      <td>33</td>\n",
              "      <td>entrepreneur</td>\n",
              "      <td>married</td>\n",
              "      <td>secondary</td>\n",
              "      <td>no</td>\n",
              "      <td>2</td>\n",
              "      <td>yes</td>\n",
              "      <td>yes</td>\n",
              "      <td>unknown</td>\n",
              "      <td>5</td>\n",
              "      <td>may</td>\n",
              "      <td>76</td>\n",
              "      <td>1</td>\n",
              "      <td>-1</td>\n",
              "      <td>0</td>\n",
              "      <td>unknown</td>\n",
              "      <td>no</td>\n",
              "    </tr>\n",
              "    <tr>\n",
              "      <th>3</th>\n",
              "      <td>47</td>\n",
              "      <td>blue-collar</td>\n",
              "      <td>married</td>\n",
              "      <td>unknown</td>\n",
              "      <td>no</td>\n",
              "      <td>1506</td>\n",
              "      <td>yes</td>\n",
              "      <td>no</td>\n",
              "      <td>unknown</td>\n",
              "      <td>5</td>\n",
              "      <td>may</td>\n",
              "      <td>92</td>\n",
              "      <td>1</td>\n",
              "      <td>-1</td>\n",
              "      <td>0</td>\n",
              "      <td>unknown</td>\n",
              "      <td>no</td>\n",
              "    </tr>\n",
              "    <tr>\n",
              "      <th>4</th>\n",
              "      <td>33</td>\n",
              "      <td>unknown</td>\n",
              "      <td>single</td>\n",
              "      <td>unknown</td>\n",
              "      <td>no</td>\n",
              "      <td>1</td>\n",
              "      <td>no</td>\n",
              "      <td>no</td>\n",
              "      <td>unknown</td>\n",
              "      <td>5</td>\n",
              "      <td>may</td>\n",
              "      <td>198</td>\n",
              "      <td>1</td>\n",
              "      <td>-1</td>\n",
              "      <td>0</td>\n",
              "      <td>unknown</td>\n",
              "      <td>no</td>\n",
              "    </tr>\n",
              "  </tbody>\n",
              "</table>\n",
              "</div>"
            ],
            "text/plain": [
              "   age           job  marital  education  ... pdays  previous poutcome   y\n",
              "0   58    management  married   tertiary  ...    -1         0  unknown  no\n",
              "1   44    technician   single  secondary  ...    -1         0  unknown  no\n",
              "2   33  entrepreneur  married  secondary  ...    -1         0  unknown  no\n",
              "3   47   blue-collar  married    unknown  ...    -1         0  unknown  no\n",
              "4   33       unknown   single    unknown  ...    -1         0  unknown  no\n",
              "\n",
              "[5 rows x 17 columns]"
            ]
          },
          "metadata": {
            "tags": []
          },
          "execution_count": 10
        }
      ]
    },
    {
      "cell_type": "markdown",
      "metadata": {
        "id": "eoix_AMcERr4"
      },
      "source": [
        "# **Hypothesis:**\n",
        "\n",
        "1. Most of the people who would deny a Term Deposit would be younger age\n",
        "\n",
        "2. Blue Collar jobs reject opening a Term Deposit the most where as Students and Old People say yes.\n",
        "\n",
        "3. Higher education will lead to higher numbers of TD\n",
        "\n",
        "4. Credit defaulters will never say yes.\n",
        "\n",
        "5. Loan defaulters will not say yes.\n",
        "\n",
        "6. Festive seasons will see the most amount of acceptance.\n",
        "\n",
        "7. People with housing loan will not say yes.\n",
        "\n",
        "8. Non-cellular contacts will be rejected.\n",
        "\n",
        "9. Higher balance will say yes.\n",
        "\n",
        "10. People who have yes to TD before will say yes again.\n",
        "\n",
        "11. Lower previous days will result in higher TD."
      ]
    },
    {
      "cell_type": "markdown",
      "metadata": {
        "id": "dhXF7zlCF1Qr"
      },
      "source": [
        "# **1. Age:**"
      ]
    },
    {
      "cell_type": "code",
      "metadata": {
        "id": "f2DvJspiF6yQ"
      },
      "source": [
        "import seaborn as sns"
      ],
      "execution_count": null,
      "outputs": []
    },
    {
      "cell_type": "code",
      "metadata": {
        "id": "9_XinpN0GCQN"
      },
      "source": [
        "import matplotlib.pyplot as plt\n"
      ],
      "execution_count": null,
      "outputs": []
    },
    {
      "cell_type": "code",
      "metadata": {
        "colab": {
          "base_uri": "https://localhost:8080/",
          "height": 405
        },
        "id": "8dRr48OVD_bi",
        "outputId": "8345e5ed-c782-47b6-f3f3-cc91bad5c8c3"
      },
      "source": [
        "plt.figure(figsize=(10,6))\n",
        "\n",
        "sns.kdeplot(x=df['age'],hue=df['y'])"
      ],
      "execution_count": null,
      "outputs": [
        {
          "output_type": "execute_result",
          "data": {
            "text/plain": [
              "<matplotlib.axes._subplots.AxesSubplot at 0x7ff6077416d0>"
            ]
          },
          "metadata": {
            "tags": []
          },
          "execution_count": 16
        },
        {
          "output_type": "display_data",
          "data": {
            "image/png": "[encoded data removed]",
            "text/plain": [
              "<Figure size 720x432 with 1 Axes>"
            ]
          },
          "metadata": {
            "tags": [],
            "needs_background": "light"
          }
        }
      ]
    },
    {
      "cell_type": "markdown",
      "metadata": {
        "id": "0XhP4PT6GhiC"
      },
      "source": [
        "Hypothesis is correct."
      ]
    },
    {
      "cell_type": "markdown",
      "metadata": {
        "id": "ZI9NzcdXGlZn"
      },
      "source": [
        "# **2. Jobs:**"
      ]
    },
    {
      "cell_type": "code",
      "metadata": {
        "colab": {
          "base_uri": "https://localhost:8080/",
          "height": 405
        },
        "id": "OoQNBWUSGLmy",
        "outputId": "b51d8c4a-d7e7-49c9-e08a-3ca61b5f7aad"
      },
      "source": [
        "plt.figure(figsize=(15,6))\n",
        "\n",
        "sns.countplot(x=df['job'],hue=df['y'])"
      ],
      "execution_count": null,
      "outputs": [
        {
          "output_type": "execute_result",
          "data": {
            "text/plain": [
              "<matplotlib.axes._subplots.AxesSubplot at 0x7ff6078361d0>"
            ]
          },
          "metadata": {
            "tags": []
          },
          "execution_count": 18
        },
        {
          "output_type": "display_data",
          "data": {
            "image/png": "[encoded data removed]",
            "text/plain": [
              "<Figure size 1080x432 with 1 Axes>"
            ]
          },
          "metadata": {
            "tags": [],
            "needs_background": "light"
          }
        }
      ]
    },
    {
      "cell_type": "markdown",
      "metadata": {
        "id": "PZuAew2uNv4_"
      },
      "source": [
        "hypothesis was correct."
      ]
    },
    {
      "cell_type": "markdown",
      "metadata": {
        "id": "ECTmS-9xOYIc"
      },
      "source": [
        "# **3. Education:**"
      ]
    },
    {
      "cell_type": "code",
      "metadata": {
        "colab": {
          "base_uri": "https://localhost:8080/",
          "height": 405
        },
        "id": "wmEDLCbQLf3L",
        "outputId": "10cd87b1-c964-4b89-ea08-ec8c78efb6a9"
      },
      "source": [
        "plt.figure(figsize=(10,6))\n",
        "\n",
        "sns.countplot(x='education',hue='y',data=df)"
      ],
      "execution_count": null,
      "outputs": [
        {
          "output_type": "execute_result",
          "data": {
            "text/plain": [
              "<matplotlib.axes._subplots.AxesSubplot at 0x7ff60791e290>"
            ]
          },
          "metadata": {
            "tags": []
          },
          "execution_count": 19
        },
        {
          "output_type": "display_data",
          "data": {
            "image/png": "[encoded data removed]",
            "text/plain": [
              "<Figure size 720x432 with 1 Axes>"
            ]
          },
          "metadata": {
            "tags": [],
            "needs_background": "light"
          }
        }
      ]
    },
    {
      "cell_type": "markdown",
      "metadata": {
        "id": "LJrEXLqUQFGF"
      },
      "source": [
        "Hypothesis was correct."
      ]
    },
    {
      "cell_type": "markdown",
      "metadata": {
        "id": "ClGRnEf7QTvC"
      },
      "source": [
        "# **4. Credit Defaulters:**"
      ]
    },
    {
      "cell_type": "code",
      "metadata": {
        "colab": {
          "base_uri": "https://localhost:8080/",
          "height": 405
        },
        "id": "SPhddBVMQB39",
        "outputId": "d4c64789-6ce0-4769-84c3-aaf129356322"
      },
      "source": [
        "plt.figure(figsize=(10,6))\n",
        "\n",
        "sns.countplot(x='default',hue='y',data=df)"
      ],
      "execution_count": null,
      "outputs": [
        {
          "output_type": "execute_result",
          "data": {
            "text/plain": [
              "<matplotlib.axes._subplots.AxesSubplot at 0x7ff6079d62d0>"
            ]
          },
          "metadata": {
            "tags": []
          },
          "execution_count": 20
        },
        {
          "output_type": "display_data",
          "data": {
            "image/png": "[encoded data removed]",
            "text/plain": [
              "<Figure size 720x432 with 1 Axes>"
            ]
          },
          "metadata": {
            "tags": [],
            "needs_background": "light"
          }
        }
      ]
    },
    {
      "cell_type": "markdown",
      "metadata": {
        "id": "O-HbvpGsQqGs"
      },
      "source": [
        "Hypothesis was correct."
      ]
    },
    {
      "cell_type": "markdown",
      "metadata": {
        "id": "8s20X9eiQxTD"
      },
      "source": [
        "# **5. Loan:**"
      ]
    },
    {
      "cell_type": "code",
      "metadata": {
        "colab": {
          "base_uri": "https://localhost:8080/",
          "height": 405
        },
        "id": "Q3lMr0NcQjpm",
        "outputId": "164d77bd-0db4-41ee-9ca8-8e689535bf9a"
      },
      "source": [
        "plt.figure(figsize=(10,6))\n",
        "\n",
        "sns.countplot(x='loan',hue='y',data=df)"
      ],
      "execution_count": null,
      "outputs": [
        {
          "output_type": "execute_result",
          "data": {
            "text/plain": [
              "<matplotlib.axes._subplots.AxesSubplot at 0x7ff607a0f650>"
            ]
          },
          "metadata": {
            "tags": []
          },
          "execution_count": 21
        },
        {
          "output_type": "display_data",
          "data": {
            "image/png": "[encoded data removed]",
            "text/plain": [
              "<Figure size 720x432 with 1 Axes>"
            ]
          },
          "metadata": {
            "tags": [],
            "needs_background": "light"
          }
        }
      ]
    },
    {
      "cell_type": "markdown",
      "metadata": {
        "id": "unNb6eKURwHS"
      },
      "source": [
        "Hypothesis was correct."
      ]
    },
    {
      "cell_type": "markdown",
      "metadata": {
        "id": "iohkdGD-VI_I"
      },
      "source": [
        "# **6. Month**"
      ]
    },
    {
      "cell_type": "code",
      "metadata": {
        "colab": {
          "base_uri": "https://localhost:8080/",
          "height": 405
        },
        "id": "QZbHckrmRr8t",
        "outputId": "8eecd1bc-2000-43b1-f3ed-664d864cb89d"
      },
      "source": [
        "plt.figure(figsize=(15,6))\n",
        "\n",
        "sns.countplot(x='month',hue='y',data=df)"
      ],
      "execution_count": null,
      "outputs": [
        {
          "output_type": "execute_result",
          "data": {
            "text/plain": [
              "<matplotlib.axes._subplots.AxesSubplot at 0x7ff607a4b4d0>"
            ]
          },
          "metadata": {
            "tags": []
          },
          "execution_count": 22
        },
        {
          "output_type": "display_data",
          "data": {
            "image/png": "[encoded data removed]",
            "text/plain": [
              "<Figure size 1080x432 with 1 Axes>"
            ]
          },
          "metadata": {
            "tags": [],
            "needs_background": "light"
          }
        }
      ]
    },
    {
      "cell_type": "markdown",
      "metadata": {
        "id": "Qg7STODwVtbh"
      },
      "source": [
        "Iberian Mask Festival has influenced the TD being said No to most."
      ]
    },
    {
      "cell_type": "markdown",
      "metadata": {
        "id": "YRQzovk8Yj5W"
      },
      "source": [
        "# **7. Housing Loans:**"
      ]
    },
    {
      "cell_type": "code",
      "metadata": {
        "colab": {
          "base_uri": "https://localhost:8080/",
          "height": 405
        },
        "id": "JT4bU_V7VduR",
        "outputId": "025aebf5-a5bd-4cf5-d593-3931b8556b76"
      },
      "source": [
        "plt.figure(figsize=(8,6))\n",
        "\n",
        "sns.countplot(x='housing',hue='y',data=df)"
      ],
      "execution_count": null,
      "outputs": [
        {
          "output_type": "execute_result",
          "data": {
            "text/plain": [
              "<matplotlib.axes._subplots.AxesSubplot at 0x7ff607ad8690>"
            ]
          },
          "metadata": {
            "tags": []
          },
          "execution_count": 24
        },
        {
          "output_type": "display_data",
          "data": {
            "image/png": "[encoded data removed]",
            "text/plain": [
              "<Figure size 576x432 with 1 Axes>"
            ]
          },
          "metadata": {
            "tags": [],
            "needs_background": "light"
          }
        }
      ]
    },
    {
      "cell_type": "markdown",
      "metadata": {
        "id": "6bkEb5izY_gq"
      },
      "source": [
        "Hypothesis was correct."
      ]
    },
    {
      "cell_type": "markdown",
      "metadata": {
        "id": "0s9NcIu2ZEpl"
      },
      "source": [
        "# **8. Contact:**"
      ]
    },
    {
      "cell_type": "code",
      "metadata": {
        "colab": {
          "base_uri": "https://localhost:8080/",
          "height": 405
        },
        "id": "quk1ipovYrr2",
        "outputId": "04277ff2-29c2-48f1-c327-fe01068d463e"
      },
      "source": [
        "plt.figure(figsize=(15,6))\n",
        "\n",
        "sns.countplot(x='contact',hue='y',data=df)"
      ],
      "execution_count": null,
      "outputs": [
        {
          "output_type": "execute_result",
          "data": {
            "text/plain": [
              "<matplotlib.axes._subplots.AxesSubplot at 0x7ff607a3d910>"
            ]
          },
          "metadata": {
            "tags": []
          },
          "execution_count": 25
        },
        {
          "output_type": "display_data",
          "data": {
            "image/png": "[encoded data removed]",
            "text/plain": [
              "<Figure size 1080x432 with 1 Axes>"
            ]
          },
          "metadata": {
            "tags": [],
            "needs_background": "light"
          }
        }
      ]
    },
    {
      "cell_type": "markdown",
      "metadata": {
        "id": "oYu0aQrZZZC1"
      },
      "source": [
        "Hypothesis was correct."
      ]
    },
    {
      "cell_type": "markdown",
      "metadata": {
        "id": "kE70mQJOZwx-"
      },
      "source": [
        "# **9. Balance:**"
      ]
    },
    {
      "cell_type": "code",
      "metadata": {
        "colab": {
          "base_uri": "https://localhost:8080/",
          "height": 405
        },
        "id": "iZaXevo-ZRMW",
        "outputId": "0b34a721-7452-4fe8-c43a-813d17568aec"
      },
      "source": [
        "plt.figure(figsize=(8,6))\n",
        "\n",
        "sns.histplot(x='balance',hue='y',data=df)"
      ],
      "execution_count": null,
      "outputs": [
        {
          "output_type": "execute_result",
          "data": {
            "text/plain": [
              "<matplotlib.axes._subplots.AxesSubplot at 0x7ff6087560d0>"
            ]
          },
          "metadata": {
            "tags": []
          },
          "execution_count": 31
        },
        {
          "output_type": "display_data",
          "data": {
            "image/png": "[encoded data removed]",
            "text/plain": [
              "<Figure size 576x432 with 1 Axes>"
            ]
          },
          "metadata": {
            "tags": [],
            "needs_background": "light"
          }
        }
      ]
    },
    {
      "cell_type": "markdown",
      "metadata": {
        "id": "UNx0Xe1gajLQ"
      },
      "source": [
        "Hypothesis was wrong."
      ]
    },
    {
      "cell_type": "markdown",
      "metadata": {
        "id": "NRDZnzyvd2N4"
      },
      "source": [
        "# **10. Previous Outcome:**"
      ]
    },
    {
      "cell_type": "code",
      "metadata": {
        "colab": {
          "base_uri": "https://localhost:8080/",
          "height": 407
        },
        "id": "GQbmtMn_Z3Nd",
        "outputId": "934b9597-503c-47f4-8b34-912ad983dc13"
      },
      "source": [
        "plt.figure(figsize=(15,6))\n",
        "\n",
        "sns.countplot(x='poutcome',hue='y',data=df)"
      ],
      "execution_count": null,
      "outputs": [
        {
          "output_type": "execute_result",
          "data": {
            "text/plain": [
              "<matplotlib.axes._subplots.AxesSubplot at 0x7ff6085019d0>"
            ]
          },
          "metadata": {
            "tags": []
          },
          "execution_count": 32
        },
        {
          "output_type": "display_data",
          "data": {
            "image/png": "[encoded data removed]",
            "text/plain": [
              "<Figure size 1080x432 with 1 Axes>"
            ]
          },
          "metadata": {
            "tags": [],
            "needs_background": "light"
          }
        }
      ]
    },
    {
      "cell_type": "markdown",
      "metadata": {
        "id": "X_Z9MVKWd_-1"
      },
      "source": [
        "Hypothesis was correct."
      ]
    },
    {
      "cell_type": "markdown",
      "metadata": {
        "id": "FdD36pTrh6Py"
      },
      "source": [
        "# **11. Previous Days:**"
      ]
    },
    {
      "cell_type": "code",
      "metadata": {
        "colab": {
          "base_uri": "https://localhost:8080/",
          "height": 297
        },
        "id": "ciHwtNR4h9zI",
        "outputId": "6d25e085-29c9-4a0f-f647-1b6cc738e032"
      },
      "source": [
        "sns.kdeplot(x='pdays',hue='y',data=df)"
      ],
      "execution_count": null,
      "outputs": [
        {
          "output_type": "execute_result",
          "data": {
            "text/plain": [
              "<matplotlib.axes._subplots.AxesSubplot at 0x7ff609634150>"
            ]
          },
          "metadata": {
            "tags": []
          },
          "execution_count": 46
        },
        {
          "output_type": "display_data",
          "data": {
            "image/png": "[encoded data removed]",
            "text/plain": [
              "<Figure size 432x288 with 1 Axes>"
            ]
          },
          "metadata": {
            "tags": [],
            "needs_background": "light"
          }
        }
      ]
    },
    {
      "cell_type": "markdown",
      "metadata": {
        "id": "Tzahq77NiF5Q"
      },
      "source": [
        "Hypothesis was correct."
      ]
    },
    {
      "cell_type": "markdown",
      "metadata": {
        "id": "CDyWfsl5eJzq"
      },
      "source": [
        "# **Feature Engineering:**"
      ]
    },
    {
      "cell_type": "markdown",
      "metadata": {
        "id": "nzxzC4AcfEuu"
      },
      "source": [
        "Changing the categorical variables or the ones holding them to one hot encoding."
      ]
    },
    {
      "cell_type": "code",
      "metadata": {
        "id": "m48cEESPfyey"
      },
      "source": [
        "#one hot encoding columns\n",
        "\n",
        "one_hot_enc_cols=[]"
      ],
      "execution_count": null,
      "outputs": []
    },
    {
      "cell_type": "code",
      "metadata": {
        "id": "PWJRhIVSd9Qo"
      },
      "source": [
        "#AGE\n",
        "\n",
        "#Converting them to 4 bins according to the age bracket\n",
        "def convert_age(age):\n",
        "  if age<33:\n",
        "    return 'struggling'\n",
        "  elif age<45:\n",
        "    return 'stable'\n",
        "  elif age<60:\n",
        "    return 'about_to_retire'\n",
        "  elif age<67:\n",
        "    return 'old_age'\n",
        "  else:\n",
        "    return 'counting_last_breaths'"
      ],
      "execution_count": null,
      "outputs": []
    },
    {
      "cell_type": "code",
      "metadata": {
        "id": "ZNy3CgHsfNEL"
      },
      "source": [
        "df['cat_age'] = df['age'].apply(convert_age)"
      ],
      "execution_count": null,
      "outputs": []
    },
    {
      "cell_type": "code",
      "metadata": {
        "colab": {
          "base_uri": "https://localhost:8080/",
          "height": 283
        },
        "id": "aXjUCdbUffjy",
        "outputId": "4ef9b6f3-eeea-47a4-8571-8e8e40545685"
      },
      "source": [
        "df['cat_age'].value_counts().sort_values(ascending= True).plot(kind='barh',color='teal')"
      ],
      "execution_count": null,
      "outputs": [
        {
          "output_type": "execute_result",
          "data": {
            "text/plain": [
              "<matplotlib.axes._subplots.AxesSubplot at 0x7ff609500910>"
            ]
          },
          "metadata": {
            "tags": []
          },
          "execution_count": 38
        },
        {
          "output_type": "display_data",
          "data": {
            "image/png": "[encoded data removed]",
            "text/plain": [
              "<Figure size 432x288 with 1 Axes>"
            ]
          },
          "metadata": {
            "tags": [],
            "needs_background": "light"
          }
        }
      ]
    },
    {
      "cell_type": "code",
      "metadata": {
        "id": "y3Eu983FfnlN"
      },
      "source": [
        "one_hot_enc_cols.append('cat_age')"
      ],
      "execution_count": null,
      "outputs": []
    },
    {
      "cell_type": "code",
      "metadata": {
        "id": "YAHcO06rf5jt"
      },
      "source": [
        "#job\n",
        "def cluster_jobs(job):\n",
        "  new_cat1 = ['technician','services']\n",
        "  new_cat2 = ['blue-collar','admin.']\n",
        "  new_cat3 = ['self-employed','housemaid','entrepreneur']\n",
        "  if job in new_cat1:\n",
        "    return 'cat1'\n",
        "  if job in new_cat2:\n",
        "    return 'cat2'\n",
        "  if job in new_cat3:\n",
        "    return 'cat3'\n",
        "  return job"
      ],
      "execution_count": null,
      "outputs": []
    },
    {
      "cell_type": "code",
      "metadata": {
        "id": "lJawiE03gUDF"
      },
      "source": [
        "df['new_jobs'] = df['job'].apply(cluster_jobs)"
      ],
      "execution_count": null,
      "outputs": []
    },
    {
      "cell_type": "code",
      "metadata": {
        "colab": {
          "base_uri": "https://localhost:8080/",
          "height": 461
        },
        "id": "PUnbnW01gbdl",
        "outputId": "17bdc3be-4c49-48cf-b007-d838a5318f71"
      },
      "source": [
        "plt.figure(figsize=(15,6))\n",
        "\n",
        "sns.countplot(df['new_jobs'],hue=df['y'])"
      ],
      "execution_count": null,
      "outputs": [
        {
          "output_type": "stream",
          "text": [
            "/usr/local/lib/python3.7/dist-packages/seaborn/_decorators.py:43: FutureWarning: Pass the following variable as a keyword arg: x. From version 0.12, the only valid positional argument will be `data`, and passing other arguments without an explicit keyword will result in an error or misinterpretation.\n",
            "  FutureWarning\n"
          ],
          "name": "stderr"
        },
        {
          "output_type": "execute_result",
          "data": {
            "text/plain": [
              "<matplotlib.axes._subplots.AxesSubplot at 0x7ff609614610>"
            ]
          },
          "metadata": {
            "tags": []
          },
          "execution_count": 44
        },
        {
          "output_type": "display_data",
          "data": {
            "image/png": "[encoded data removed]",
            "text/plain": [
              "<Figure size 1080x432 with 1 Axes>"
            ]
          },
          "metadata": {
            "tags": [],
            "needs_background": "light"
          }
        }
      ]
    },
    {
      "cell_type": "code",
      "metadata": {
        "id": "IKev1nIHgeHC"
      },
      "source": [
        "one_hot_enc_cols.append('new_jobs')"
      ],
      "execution_count": null,
      "outputs": []
    },
    {
      "cell_type": "code",
      "metadata": {
        "id": "0GWCfff2goGG"
      },
      "source": [
        "#A Fair population\n",
        "\n",
        "#marital\n",
        "one_hot_enc_cols.append('marital')\n",
        "\n",
        "#education\n",
        "one_hot_enc_cols.append('education')\n",
        "\n",
        "#default\n",
        "df.default.replace({'no':0,'yes':1},inplace=True)\n",
        "\n",
        "#housing\n",
        "df.housing.replace({'no':0,'yes':1},inplace=True)\n",
        "\n",
        "#loan default\n",
        "df.loan.replace({'no':0,'yes':1},inplace=True)\n",
        "\n",
        "#contact\n",
        "df.contact.replace({'unknown':0, 'cellular':1, 'telephone':1},inplace=True)\n",
        "\n",
        "#Decided to drop day,month and duration\n",
        "\n",
        "#poutcome\n",
        "one_hot_enc_cols.append('poutcome')"
      ],
      "execution_count": null,
      "outputs": []
    },
    {
      "cell_type": "code",
      "metadata": {
        "id": "GBPrNb4TiJF-"
      },
      "source": [
        "#new Column\n",
        "df['contacted_before']=df['pdays'].apply(lambda x : 1 if x!=-1 else 0 )"
      ],
      "execution_count": null,
      "outputs": []
    },
    {
      "cell_type": "code",
      "metadata": {
        "colab": {
          "base_uri": "https://localhost:8080/",
          "height": 409
        },
        "id": "Sb_IhoK8iM4K",
        "outputId": "2cf70bb7-1e9e-4ac6-8495-6d1935c160ff"
      },
      "source": [
        "plt.figure(figsize=(6,5))\n",
        "\n",
        "sns.countplot(df['contacted_before'],hue = df['y'])"
      ],
      "execution_count": 52,
      "outputs": [
        {
          "output_type": "stream",
          "text": [
            "/usr/local/lib/python3.7/dist-packages/seaborn/_decorators.py:43: FutureWarning: Pass the following variable as a keyword arg: x. From version 0.12, the only valid positional argument will be `data`, and passing other arguments without an explicit keyword will result in an error or misinterpretation.\n",
            "  FutureWarning\n"
          ],
          "name": "stderr"
        },
        {
          "output_type": "execute_result",
          "data": {
            "text/plain": [
              "<matplotlib.axes._subplots.AxesSubplot at 0x7ff6068d5390>"
            ]
          },
          "metadata": {
            "tags": []
          },
          "execution_count": 52
        },
        {
          "output_type": "display_data",
          "data": {
            "image/png": "[encoded data removed]",
            "text/plain": [
              "<Figure size 432x360 with 1 Axes>"
            ]
          },
          "metadata": {
            "tags": [],
            "needs_background": "light"
          }
        }
      ]
    },
    {
      "cell_type": "code",
      "metadata": {
        "id": "4YSFZu_2iRQk"
      },
      "source": [
        "new_df = pd.get_dummies(df.drop(['age','job','pdays','day','month','duration'],axis=1),columns = one_hot_enc_cols)"
      ],
      "execution_count": 71,
      "outputs": []
    },
    {
      "cell_type": "code",
      "metadata": {
        "colab": {
          "base_uri": "https://localhost:8080/"
        },
        "id": "bME0praWjUxQ",
        "outputId": "022fe13f-9386-4d1b-e115-29d14bbd1d10"
      },
      "source": [
        "new_df.columns"
      ],
      "execution_count": 86,
      "outputs": [
        {
          "output_type": "execute_result",
          "data": {
            "text/plain": [
              "Index(['default', 'balance', 'housing', 'loan', 'contact', 'campaign',\n",
              "       'previous', 'y', 'contacted_before', 'cat_age_about_to_retire',\n",
              "       'cat_age_counting_last_breaths', 'cat_age_old_age', 'cat_age_stable',\n",
              "       'cat_age_struggling', 'new_jobs_cat1', 'new_jobs_cat2', 'new_jobs_cat3',\n",
              "       'new_jobs_management', 'new_jobs_retired', 'new_jobs_student',\n",
              "       'new_jobs_unemployed', 'new_jobs_unknown', 'marital_divorced',\n",
              "       'marital_married', 'marital_single', 'education_primary',\n",
              "       'education_secondary', 'education_tertiary', 'education_unknown',\n",
              "       'poutcome_failure', 'poutcome_other', 'poutcome_success',\n",
              "       'poutcome_unknown'],\n",
              "      dtype='object')"
            ]
          },
          "metadata": {
            "tags": []
          },
          "execution_count": 86
        }
      ]
    },
    {
      "cell_type": "markdown",
      "metadata": {
        "id": "Nue7EejWu3dC"
      },
      "source": [
        "# **Nan Value imputaion:**"
      ]
    },
    {
      "cell_type": "code",
      "metadata": {
        "colab": {
          "base_uri": "https://localhost:8080/"
        },
        "id": "zhCx2XIIusuh",
        "outputId": "d1c9de81-d5ba-4248-bc58-fb064fe2af8f"
      },
      "source": [
        "new_df.isnull().sum()"
      ],
      "execution_count": 122,
      "outputs": [
        {
          "output_type": "execute_result",
          "data": {
            "text/plain": [
              "default                          0\n",
              "balance                          0\n",
              "housing                          0\n",
              "loan                             0\n",
              "contact                          0\n",
              "campaign                         0\n",
              "previous                         0\n",
              "y                                0\n",
              "contacted_before                 0\n",
              "cat_age_about_to_retire          0\n",
              "cat_age_counting_last_breaths    0\n",
              "cat_age_old_age                  0\n",
              "cat_age_stable                   0\n",
              "cat_age_struggling               0\n",
              "new_jobs_cat1                    0\n",
              "new_jobs_cat2                    0\n",
              "new_jobs_cat3                    0\n",
              "new_jobs_management              0\n",
              "new_jobs_retired                 0\n",
              "new_jobs_student                 0\n",
              "new_jobs_unemployed              0\n",
              "new_jobs_unknown                 0\n",
              "marital_divorced                 0\n",
              "marital_married                  0\n",
              "marital_single                   0\n",
              "education_primary                0\n",
              "education_secondary              0\n",
              "education_tertiary               0\n",
              "education_unknown                0\n",
              "poutcome_failure                 0\n",
              "poutcome_other                   0\n",
              "poutcome_success                 0\n",
              "poutcome_unknown                 0\n",
              "is_anomaly                       0\n",
              "dtype: int64"
            ]
          },
          "metadata": {
            "tags": []
          },
          "execution_count": 122
        }
      ]
    },
    {
      "cell_type": "markdown",
      "metadata": {
        "id": "o4h29lzKt3gd"
      },
      "source": [
        "# **Outlier Removal by Isolation Forest:**"
      ]
    },
    {
      "cell_type": "code",
      "metadata": {
        "id": "veMvll-6uU9p"
      },
      "source": [
        "feature_df = new_df.drop(['y'],axis=1)\n",
        "from sklearn.ensemble import IsolationForest\n",
        "anomaly_filter = IsolationForest(contamination=0.1,n_jobs=-1)\n",
        "anomalies = pd.Series(anomaly_filter.fit_predict(feature_df))\n",
        "new_df['is_anomaly'] = anomalies\n",
        "final_df = new_df[new_df['is_anomaly']==1].drop(['is_anomaly'],axis=1)"
      ],
      "execution_count": 118,
      "outputs": []
    },
    {
      "cell_type": "code",
      "metadata": {
        "id": "WNQIwlyVugvh"
      },
      "source": [
        "#Scaling balance\n",
        "\n",
        "from sklearn.preprocessing import MinMaxScaler\n",
        "mms = MinMaxScaler()\n",
        "final_df['balance'] = pd.Series(mms.fit_transform(final_df['balance'].values.reshape(-1,1)).flatten())"
      ],
      "execution_count": 119,
      "outputs": []
    },
    {
      "cell_type": "code",
      "metadata": {
        "id": "_fVjDQgUvLQ2"
      },
      "source": [
        "final_df =final_df[~final_df.isin([np.nan, np.inf, -np.inf]).any(1)]"
      ],
      "execution_count": 123,
      "outputs": []
    },
    {
      "cell_type": "markdown",
      "metadata": {
        "id": "-yMXsBeusZs_"
      },
      "source": [
        "# **Feature Selection:**"
      ]
    },
    {
      "cell_type": "markdown",
      "metadata": {
        "id": "v3mkrlavjtdT"
      },
      "source": [
        "# **Extra Trees Classifier:**\n",
        "\n",
        "Feature Selection with Extra Trees Classifier:"
      ]
    },
    {
      "cell_type": "code",
      "metadata": {
        "id": "FKgQ2CuomzZX"
      },
      "source": [
        "from sklearn.ensemble import ExtraTreesClassifier"
      ],
      "execution_count": 76,
      "outputs": []
    },
    {
      "cell_type": "code",
      "metadata": {
        "id": "9Eq9caSZ2hfT",
        "outputId": "bdfa0f38-ce43-4686-ab9e-b582b026fe9c",
        "colab": {
          "base_uri": "https://localhost:8080/"
        }
      },
      "source": [
        "final_df['y'].unique()"
      ],
      "execution_count": 161,
      "outputs": [
        {
          "output_type": "execute_result",
          "data": {
            "text/plain": [
              "array(['no', 'yes'], dtype=object)"
            ]
          },
          "metadata": {
            "tags": []
          },
          "execution_count": 161
        }
      ]
    },
    {
      "cell_type": "code",
      "metadata": {
        "id": "UEY4UOmD2ez8"
      },
      "source": [
        "final_df['y']= final_df['y'].map({'yes':1,'no':0})"
      ],
      "execution_count": 162,
      "outputs": []
    },
    {
      "cell_type": "code",
      "metadata": {
        "id": "S1HN_YJKi7O9"
      },
      "source": [
        "X= final_df.drop('y',axis=1)\n",
        "\n",
        "Y= final_df['y']"
      ],
      "execution_count": 163,
      "outputs": []
    },
    {
      "cell_type": "code",
      "metadata": {
        "id": "q_4vo7_emQ2k"
      },
      "source": [
        "# Building the model\n",
        "extra_tree_forest = ExtraTreesClassifier(n_estimators = 5,\n",
        "                                        criterion ='entropy', max_features = 2)\n",
        "  \n",
        "# Training the model\n",
        "extra_tree_forest.fit(X, Y)\n",
        "  \n",
        "# Computing the importance of each feature\n",
        "feature_importance = extra_tree_forest.feature_importances_\n",
        "  \n",
        "# Normalizing the individual importances\n",
        "feature_importance_normalized = np.std([tree.feature_importances_ for tree in \n",
        "                                        extra_tree_forest.estimators_],\n",
        "                                        axis = 0)"
      ],
      "execution_count": 164,
      "outputs": []
    },
    {
      "cell_type": "code",
      "metadata": {
        "id": "uPf2PGAcoZjW"
      },
      "source": [
        "features= X.columns"
      ],
      "execution_count": 165,
      "outputs": []
    },
    {
      "cell_type": "code",
      "metadata": {
        "colab": {
          "base_uri": "https://localhost:8080/"
        },
        "id": "9pkJ2YHTocab",
        "outputId": "fd4e58df-0a26-45af-f902-6e018c8e2067"
      },
      "source": [
        "features"
      ],
      "execution_count": 166,
      "outputs": [
        {
          "output_type": "execute_result",
          "data": {
            "text/plain": [
              "Index(['default', 'balance', 'housing', 'loan', 'contact', 'campaign',\n",
              "       'previous', 'contacted_before', 'cat_age_about_to_retire',\n",
              "       'cat_age_counting_last_breaths', 'cat_age_old_age', 'cat_age_stable',\n",
              "       'cat_age_struggling', 'new_jobs_cat1', 'new_jobs_cat2', 'new_jobs_cat3',\n",
              "       'new_jobs_management', 'new_jobs_retired', 'new_jobs_student',\n",
              "       'new_jobs_unemployed', 'new_jobs_unknown', 'marital_divorced',\n",
              "       'marital_married', 'marital_single', 'education_primary',\n",
              "       'education_secondary', 'education_tertiary', 'education_unknown',\n",
              "       'poutcome_failure', 'poutcome_other', 'poutcome_success',\n",
              "       'poutcome_unknown'],\n",
              "      dtype='object')"
            ]
          },
          "metadata": {
            "tags": []
          },
          "execution_count": 166
        }
      ]
    },
    {
      "cell_type": "code",
      "metadata": {
        "id": "nxBoAmV9nRDD"
      },
      "source": [
        "feature_df1=pd.DataFrame({'Features':features, 'Value': feature_importance_normalized})"
      ],
      "execution_count": 167,
      "outputs": []
    },
    {
      "cell_type": "code",
      "metadata": {
        "id": "zglPNJKeojpH"
      },
      "source": [
        "feature_df1=feature_df1.sort_values(by=['Value'],ascending= False)"
      ],
      "execution_count": 168,
      "outputs": []
    },
    {
      "cell_type": "code",
      "metadata": {
        "id": "_pqWo3yzo1_Q"
      },
      "source": [
        "#Top 15 features\n",
        "\n",
        "feature_df1=feature_df1.head(15)"
      ],
      "execution_count": 169,
      "outputs": []
    },
    {
      "cell_type": "code",
      "metadata": {
        "colab": {
          "base_uri": "https://localhost:8080/",
          "height": 503
        },
        "id": "0fbxR4HimxXP",
        "outputId": "57130d6c-d7a3-4397-bf01-5f8826edeb1e"
      },
      "source": [
        "# Plotting a Bar Graph to compare the model features\n",
        "plt.figure(figsize=(20,8))\n",
        "plt.bar(feature_df1['Features'], feature_df1['Value'],color='Darkred')\n",
        "plt.xlabel('Feature Labels')\n",
        "plt.ylabel('Feature Importances')\n",
        "plt.title('Comparison of different Feature Importances')\n",
        "plt.show()"
      ],
      "execution_count": 170,
      "outputs": [
        {
          "output_type": "display_data",
          "data": {
            "image/png": "[encoded data removed]",
            "text/plain": [
              "<Figure size 1440x576 with 1 Axes>"
            ]
          },
          "metadata": {
            "tags": [],
            "needs_background": "light"
          }
        }
      ]
    },
    {
      "cell_type": "code",
      "metadata": {
        "id": "fCiWhd53qsnB"
      },
      "source": [
        "list_cols=list(feature_df1['Features'])"
      ],
      "execution_count": 171,
      "outputs": []
    },
    {
      "cell_type": "code",
      "metadata": {
        "id": "Yb6GybeAnB6g"
      },
      "source": [
        "#Considering only the top 15 features\n",
        "\n",
        "X=final_df[list_cols]"
      ],
      "execution_count": 172,
      "outputs": []
    },
    {
      "cell_type": "markdown",
      "metadata": {
        "id": "KFb6dqCTx1-E"
      },
      "source": [
        "# **Oversampling by SMOTE:**"
      ]
    },
    {
      "cell_type": "code",
      "metadata": {
        "id": "ytNTHWdax6MI",
        "outputId": "be38bdb9-9f3c-423a-94b2-1c98c515030a",
        "colab": {
          "base_uri": "https://localhost:8080/",
          "height": 351
        }
      },
      "source": [
        "sns.countplot(final_df['y'])"
      ],
      "execution_count": 174,
      "outputs": [
        {
          "output_type": "stream",
          "text": [
            "/usr/local/lib/python3.7/dist-packages/seaborn/_decorators.py:43: FutureWarning: Pass the following variable as a keyword arg: x. From version 0.12, the only valid positional argument will be `data`, and passing other arguments without an explicit keyword will result in an error or misinterpretation.\n",
            "  FutureWarning\n"
          ],
          "name": "stderr"
        },
        {
          "output_type": "execute_result",
          "data": {
            "text/plain": [
              "<matplotlib.axes._subplots.AxesSubplot at 0x7ff6079b8190>"
            ]
          },
          "metadata": {
            "tags": []
          },
          "execution_count": 174
        },
        {
          "output_type": "display_data",
          "data": {
            "image/png": "[encoded data removed]",
            "text/plain": [
              "<Figure size 432x288 with 1 Axes>"
            ]
          },
          "metadata": {
            "tags": [],
            "needs_background": "light"
          }
        }
      ]
    },
    {
      "cell_type": "code",
      "metadata": {
        "id": "flGo3K3owO1v",
        "outputId": "369475f4-3e03-4d2b-debb-822873179a50",
        "colab": {
          "base_uri": "https://localhost:8080/"
        }
      },
      "source": [
        "from imblearn.over_sampling import SMOTE\n",
        "sampler = SMOTE()\n",
        "X_smote,Y_smote = sampler.fit_resample(X,Y)"
      ],
      "execution_count": 175,
      "outputs": [
        {
          "output_type": "stream",
          "text": [
            "/usr/local/lib/python3.7/dist-packages/sklearn/utils/deprecation.py:87: FutureWarning: Function safe_indexing is deprecated; safe_indexing is deprecated in version 0.22 and will be removed in version 0.24.\n",
            "  warnings.warn(msg, category=FutureWarning)\n"
          ],
          "name": "stderr"
        }
      ]
    },
    {
      "cell_type": "markdown",
      "metadata": {
        "id": "ZAWflGOotDJo"
      },
      "source": [
        "# **Model Selection:**"
      ]
    },
    {
      "cell_type": "markdown",
      "metadata": {
        "id": "kcCurrR4tHNF"
      },
      "source": [
        "1. Assumptions of Logistic Regression:"
      ]
    },
    {
      "cell_type": "code",
      "metadata": {
        "colab": {
          "base_uri": "https://localhost:8080/",
          "height": 596
        },
        "id": "BfyR8ImriuV1",
        "outputId": "d1b71c54-b2de-431c-a702-34542bc65921"
      },
      "source": [
        "#Using Pearson Correlation\n",
        "plt.figure(figsize=(15,8))\n",
        "cor = X.corr()\n",
        "sns.heatmap(cor, annot=True, cmap=plt.cm.Reds)\n",
        "plt.show()"
      ],
      "execution_count": 176,
      "outputs": [
        {
          "output_type": "display_data",
          "data": {
            "image/png": "[encoded data removed]",
            "text/plain": [
              "<Figure size 1080x576 with 2 Axes>"
            ]
          },
          "metadata": {
            "tags": [],
            "needs_background": "light"
          }
        }
      ]
    },
    {
      "cell_type": "markdown",
      "metadata": {
        "id": "yROuHPh0s0eM"
      },
      "source": [
        "Correlation between independent variables, we need to use Decision Trees."
      ]
    },
    {
      "cell_type": "markdown",
      "metadata": {
        "id": "wJuLPVx8yShv"
      },
      "source": [
        "But to get a understanding of how it differs let us make a baseline Logistic Model first"
      ]
    },
    {
      "cell_type": "markdown",
      "metadata": {
        "id": "k548hCepyZ5W"
      },
      "source": [
        "# 1. Logistic Regression:"
      ]
    },
    {
      "cell_type": "code",
      "metadata": {
        "id": "CLP5_6Zmzds6"
      },
      "source": [
        "from sklearn.model_selection import train_test_split"
      ],
      "execution_count": 142,
      "outputs": []
    },
    {
      "cell_type": "code",
      "metadata": {
        "id": "PSYcHwNazNgq"
      },
      "source": [
        "# split into train and test sets\n",
        "X_train, X_test, y_train, y_test = train_test_split(X_smote, Y_smote, test_size=0.25, random_state=42)"
      ],
      "execution_count": 177,
      "outputs": []
    },
    {
      "cell_type": "code",
      "metadata": {
        "id": "hwm_izhK2B3m",
        "outputId": "7fe1e15b-9a24-4c56-8585-807ef6912a3e",
        "colab": {
          "base_uri": "https://localhost:8080/"
        }
      },
      "source": [
        "y_train"
      ],
      "execution_count": 178,
      "outputs": [
        {
          "output_type": "execute_result",
          "data": {
            "text/plain": [
              "array([1, 1, 0, ..., 1, 0, 0])"
            ]
          },
          "metadata": {
            "tags": []
          },
          "execution_count": 178
        }
      ]
    },
    {
      "cell_type": "code",
      "metadata": {
        "id": "I5ihsQFw0U99"
      },
      "source": [
        "from sklearn.model_selection import RandomizedSearchCV"
      ],
      "execution_count": 146,
      "outputs": []
    },
    {
      "cell_type": "code",
      "metadata": {
        "colab": {
          "base_uri": "https://localhost:8080/"
        },
        "id": "IEsrBM18qOkO",
        "outputId": "708449dd-52b4-4902-d977-b0954144978d"
      },
      "source": [
        "from sklearn.linear_model import LogisticRegression\n",
        "lr = LogisticRegression()\n",
        "lr.fit(X_train,y_train)"
      ],
      "execution_count": 179,
      "outputs": [
        {
          "output_type": "execute_result",
          "data": {
            "text/plain": [
              "LogisticRegression(C=1.0, class_weight=None, dual=False, fit_intercept=True,\n",
              "                   intercept_scaling=1, l1_ratio=None, max_iter=100,\n",
              "                   multi_class='auto', n_jobs=None, penalty='l2',\n",
              "                   random_state=None, solver='lbfgs', tol=0.0001, verbose=0,\n",
              "                   warm_start=False)"
            ]
          },
          "metadata": {
            "tags": []
          },
          "execution_count": 179
        }
      ]
    },
    {
      "cell_type": "code",
      "metadata": {
        "id": "ROSwq3sTzuzT"
      },
      "source": [
        "from sklearn.metrics import f1_score,accuracy_score"
      ],
      "execution_count": 191,
      "outputs": []
    },
    {
      "cell_type": "code",
      "metadata": {
        "id": "FVA0IjPE1y-F"
      },
      "source": [
        "y_pred= lr.predict(X_test)"
      ],
      "execution_count": 180,
      "outputs": []
    },
    {
      "cell_type": "code",
      "metadata": {
        "id": "WKG5GY3k3X_I"
      },
      "source": [
        "train=[]\n",
        "\n",
        "test=[]\n",
        "\n",
        "model=[]"
      ],
      "execution_count": 183,
      "outputs": []
    },
    {
      "cell_type": "code",
      "metadata": {
        "id": "ie2yfaRe1r1G",
        "outputId": "d8720a93-395f-4779-fa98-d52339ffe560",
        "colab": {
          "base_uri": "https://localhost:8080/"
        }
      },
      "source": [
        "#Train score\n",
        "\n",
        "f1_score(y_train, lr.predict(X_train))"
      ],
      "execution_count": 181,
      "outputs": [
        {
          "output_type": "execute_result",
          "data": {
            "text/plain": [
              "0.6445655519545184"
            ]
          },
          "metadata": {
            "tags": []
          },
          "execution_count": 181
        }
      ]
    },
    {
      "cell_type": "code",
      "metadata": {
        "id": "s_yEBQlE17fd",
        "outputId": "f3124bd6-3961-48be-c955-372b14aa3fd8",
        "colab": {
          "base_uri": "https://localhost:8080/"
        }
      },
      "source": [
        "#Test score\n",
        "f1_score(y_test, y_pred)\n"
      ],
      "execution_count": 182,
      "outputs": [
        {
          "output_type": "execute_result",
          "data": {
            "text/plain": [
              "0.6459089186115774"
            ]
          },
          "metadata": {
            "tags": []
          },
          "execution_count": 182
        }
      ]
    },
    {
      "cell_type": "markdown",
      "metadata": {
        "id": "MmsjSMNL4my2"
      },
      "source": [
        "As expected parametric model will not result in a good score."
      ]
    },
    {
      "cell_type": "code",
      "metadata": {
        "id": "JgovSEMf3WqB"
      },
      "source": [
        "train.append(f1_score(y_train, lr.predict(X_train)))\n",
        "\n",
        "test.append(f1_score(y_test, y_pred))\n",
        "\n",
        "model.append('Logistic Regression')"
      ],
      "execution_count": 184,
      "outputs": []
    },
    {
      "cell_type": "markdown",
      "metadata": {
        "id": "JN_K7Zjk3xh9"
      },
      "source": [
        "#2. Decision Tree Classifier:"
      ]
    },
    {
      "cell_type": "code",
      "metadata": {
        "id": "4SZ4Pmvg3wKD",
        "outputId": "aeee0035-6084-48f1-dc65-5297a8ca5591",
        "colab": {
          "base_uri": "https://localhost:8080/"
        }
      },
      "source": [
        "from sklearn.tree import DecisionTreeClassifier\n",
        "\n",
        "classifier = DecisionTreeClassifier(max_leaf_nodes=10, random_state=0)\n",
        "classifier.fit(X_train, y_train)"
      ],
      "execution_count": 186,
      "outputs": [
        {
          "output_type": "execute_result",
          "data": {
            "text/plain": [
              "DecisionTreeClassifier(ccp_alpha=0.0, class_weight=None, criterion='gini',\n",
              "                       max_depth=None, max_features=None, max_leaf_nodes=10,\n",
              "                       min_impurity_decrease=0.0, min_impurity_split=None,\n",
              "                       min_samples_leaf=1, min_samples_split=2,\n",
              "                       min_weight_fraction_leaf=0.0, presort='deprecated',\n",
              "                       random_state=0, splitter='best')"
            ]
          },
          "metadata": {
            "tags": []
          },
          "execution_count": 186
        }
      ]
    },
    {
      "cell_type": "code",
      "metadata": {
        "id": "1TomsuoC5Ca-"
      },
      "source": [
        "y_pred= classifier.predict(X_test)"
      ],
      "execution_count": 188,
      "outputs": []
    },
    {
      "cell_type": "code",
      "metadata": {
        "id": "8kZc-2Tk5qYt",
        "outputId": "08f20baf-5020-49c2-9187-8a40b87f5d44",
        "colab": {
          "base_uri": "https://localhost:8080/"
        }
      },
      "source": [
        "#Train and test accuracy\n",
        "\n",
        "print(f'Train Accuracy={accuracy_score(y_train, classifier.predict(X_train))*100}%')\n",
        "\n",
        "print(f'Test Accuracy={accuracy_score(y_test,y_pred)*100}%')"
      ],
      "execution_count": 193,
      "outputs": [
        {
          "output_type": "stream",
          "text": [
            "Train Accuracy=65.80076715658349%\n",
            "Test Accuracy=65.52352740116213%\n"
          ],
          "name": "stdout"
        }
      ]
    },
    {
      "cell_type": "code",
      "metadata": {
        "id": "ep80m-cH4zOj",
        "outputId": "771c19e9-82a4-4298-c65e-159b475aa6bc",
        "colab": {
          "base_uri": "https://localhost:8080/"
        }
      },
      "source": [
        "#Train score\n",
        "\n",
        "f1_score(y_train, classifier.predict(X_train))"
      ],
      "execution_count": 189,
      "outputs": [
        {
          "output_type": "execute_result",
          "data": {
            "text/plain": [
              "0.697980949825597"
            ]
          },
          "metadata": {
            "tags": []
          },
          "execution_count": 189
        }
      ]
    },
    {
      "cell_type": "code",
      "metadata": {
        "id": "tz7Opinr47Ky",
        "outputId": "4f522118-cd5a-48d7-aaec-776e7a4f05b0",
        "colab": {
          "base_uri": "https://localhost:8080/"
        }
      },
      "source": [
        "#est score\n",
        "\n",
        "f1_score(y_test,y_pred)"
      ],
      "execution_count": 190,
      "outputs": [
        {
          "output_type": "execute_result",
          "data": {
            "text/plain": [
              "0.6962152394337918"
            ]
          },
          "metadata": {
            "tags": []
          },
          "execution_count": 190
        }
      ]
    },
    {
      "cell_type": "code",
      "metadata": {
        "id": "vRFTEITK5cUU"
      },
      "source": [
        "train.append(f1_score(y_train, classifier.predict(X_train)))\n",
        "test.append(f1_score(y_test,y_pred))\n",
        "model.append('Decision Tree')\n"
      ],
      "execution_count": 194,
      "outputs": []
    },
    {
      "cell_type": "markdown",
      "metadata": {
        "id": "XO-bsexh6XjB"
      },
      "source": [
        "Visualizing how the decision is taken in Decision Tree:"
      ]
    },
    {
      "cell_type": "code",
      "metadata": {
        "id": "GaT9bG4s4SdV"
      },
      "source": [
        "from sklearn.tree import export_graphviz\n",
        "from sklearn import tree\n",
        "from IPython.display import SVG\n",
        "from graphviz import Source\n",
        "from IPython.display import display"
      ],
      "execution_count": 196,
      "outputs": []
    },
    {
      "cell_type": "code",
      "metadata": {
        "id": "kM0kYKQv6cm_",
        "outputId": "bd3ee4e7-6fe8-4bf3-c92d-31992c0d4abd",
        "colab": {
          "base_uri": "https://localhost:8080/",
          "height": 1000
        }
      },
      "source": [
        "graph = Source(tree.export_graphviz(classifier, out_file=None\n",
        "   , feature_names=list_cols, class_names=['0', '1'] \n",
        "   , filled = True))\n",
        "display(SVG(graph.pipe(format='svg')))"
      ],
      "execution_count": 198,
      "outputs": [
        {
          "output_type": "display_data",
          "data": {
            "text/plain": [
              "<IPython.core.display.SVG object>"
            ],
            "image/svg+xml": "<svg height=\"1028pt\" viewBox=\"0.00 0.00 692.00 1028.00\" width=\"692pt\" xmlns=\"http://www.w3.org/2000/svg\" xmlns:xlink=\"http://www.w3.org/1999/xlink\">\n<g class=\"graph\" id=\"graph0\" transform=\"scale(1 1) rotate(0) translate(4 1024)\">\n<title>Tree</title>\n<polygon fill=\"#ffffff\" points=\"-4,4 -4,-1024 688,-1024 688,4 -4,4\" stroke=\"transparent\"/>\n<!-- 0 -->\n<g class=\"node\" id=\"node1\">\n<title>0</title>\n<polygon fill=\"#ffffff\" points=\"448.5,-1020 293.5,-1020 293.5,-937 448.5,-937 448.5,-1020\" stroke=\"#000000\"/>\n<text fill=\"#000000\" font-family=\"Times,serif\" font-size=\"14.00\" text-anchor=\"middle\" x=\"371\" y=\"-1004.8\">contact &lt;= 0.001</text>\n<text fill=\"#000000\" font-family=\"Times,serif\" font-size=\"14.00\" text-anchor=\"middle\" x=\"371\" y=\"-989.8\">gini = 0.5</text>\n<text fill=\"#000000\" font-family=\"Times,serif\" font-size=\"14.00\" text-anchor=\"middle\" x=\"371\" y=\"-974.8\">samples = 52662</text>\n<text fill=\"#000000\" font-family=\"Times,serif\" font-size=\"14.00\" text-anchor=\"middle\" x=\"371\" y=\"-959.8\">value = [26314, 26348]</text>\n<text fill=\"#000000\" font-family=\"Times,serif\" font-size=\"14.00\" text-anchor=\"middle\" x=\"371\" y=\"-944.8\">class = 1</text>\n</g>\n<!-- 1 -->\n<g class=\"node\" id=\"node2\">\n<title>1</title>\n<polygon fill=\"#efb083\" points=\"358,-893.5 218,-893.5 218,-825.5 358,-825.5 358,-893.5\" stroke=\"#000000\"/>\n<text fill=\"#000000\" font-family=\"Times,serif\" font-size=\"14.00\" text-anchor=\"middle\" x=\"288\" y=\"-878.3\">gini = 0.396</text>\n<text fill=\"#000000\" font-family=\"Times,serif\" font-size=\"14.00\" text-anchor=\"middle\" x=\"288\" y=\"-863.3\">samples = 12502</text>\n<text fill=\"#000000\" font-family=\"Times,serif\" font-size=\"14.00\" text-anchor=\"middle\" x=\"288\" y=\"-848.3\">value = [9105, 3397]</text>\n<text fill=\"#000000\" font-family=\"Times,serif\" font-size=\"14.00\" text-anchor=\"middle\" x=\"288\" y=\"-833.3\">class = 0</text>\n</g>\n<!-- 0&#45;&gt;1 -->\n<g class=\"edge\" id=\"edge1\">\n<title>0-&gt;1</title>\n<path d=\"M341.9706,-936.8796C334.1477,-925.6636 325.673,-913.5131 317.8083,-902.2372\" fill=\"none\" stroke=\"#000000\"/>\n<polygon fill=\"#000000\" points=\"320.5254,-900.0147 311.9339,-893.8149 314.784,-904.0192 320.5254,-900.0147\" stroke=\"#000000\"/>\n<text fill=\"#000000\" font-family=\"Times,serif\" font-size=\"14.00\" text-anchor=\"middle\" x=\"307.5476\" y=\"-914.7271\">True</text>\n</g>\n<!-- 2 -->\n<g class=\"node\" id=\"node3\">\n<title>2</title>\n<polygon fill=\"#cde6f8\" points=\"531.5,-901 376.5,-901 376.5,-818 531.5,-818 531.5,-901\" stroke=\"#000000\"/>\n<text fill=\"#000000\" font-family=\"Times,serif\" font-size=\"14.00\" text-anchor=\"middle\" x=\"454\" y=\"-885.8\">contact &lt;= 1.0</text>\n<text fill=\"#000000\" font-family=\"Times,serif\" font-size=\"14.00\" text-anchor=\"middle\" x=\"454\" y=\"-870.8\">gini = 0.49</text>\n<text fill=\"#000000\" font-family=\"Times,serif\" font-size=\"14.00\" text-anchor=\"middle\" x=\"454\" y=\"-855.8\">samples = 40160</text>\n<text fill=\"#000000\" font-family=\"Times,serif\" font-size=\"14.00\" text-anchor=\"middle\" x=\"454\" y=\"-840.8\">value = [17209, 22951]</text>\n<text fill=\"#000000\" font-family=\"Times,serif\" font-size=\"14.00\" text-anchor=\"middle\" x=\"454\" y=\"-825.8\">class = 1</text>\n</g>\n<!-- 0&#45;&gt;2 -->\n<g class=\"edge\" id=\"edge2\">\n<title>0-&gt;2</title>\n<path d=\"M400.0294,-936.8796C406.1855,-928.0534 412.7451,-918.6485 419.0936,-909.5466\" fill=\"none\" stroke=\"#000000\"/>\n<polygon fill=\"#000000\" points=\"421.9967,-911.5024 424.8467,-901.2981 416.2552,-907.4978 421.9967,-911.5024\" stroke=\"#000000\"/>\n<text fill=\"#000000\" font-family=\"Times,serif\" font-size=\"14.00\" text-anchor=\"middle\" x=\"429.2331\" y=\"-922.2103\">False</text>\n</g>\n<!-- 3 -->\n<g class=\"node\" id=\"node4\">\n<title>3</title>\n<polygon fill=\"#399de5\" points=\"435.5,-774.5 318.5,-774.5 318.5,-706.5 435.5,-706.5 435.5,-774.5\" stroke=\"#000000\"/>\n<text fill=\"#000000\" font-family=\"Times,serif\" font-size=\"14.00\" text-anchor=\"middle\" x=\"377\" y=\"-759.3\">gini = 0.0</text>\n<text fill=\"#000000\" font-family=\"Times,serif\" font-size=\"14.00\" text-anchor=\"middle\" x=\"377\" y=\"-744.3\">samples = 1449</text>\n<text fill=\"#000000\" font-family=\"Times,serif\" font-size=\"14.00\" text-anchor=\"middle\" x=\"377\" y=\"-729.3\">value = [0, 1449]</text>\n<text fill=\"#000000\" font-family=\"Times,serif\" font-size=\"14.00\" text-anchor=\"middle\" x=\"377\" y=\"-714.3\">class = 1</text>\n</g>\n<!-- 2&#45;&gt;3 -->\n<g class=\"edge\" id=\"edge3\">\n<title>2-&gt;3</title>\n<path d=\"M427.0691,-817.8796C419.8117,-806.6636 411.9497,-794.5131 404.6535,-783.2372\" fill=\"none\" stroke=\"#000000\"/>\n<polygon fill=\"#000000\" points=\"407.5748,-781.3093 399.2038,-774.8149 401.6978,-785.112 407.5748,-781.3093\" stroke=\"#000000\"/>\n</g>\n<!-- 4 -->\n<g class=\"node\" id=\"node5\">\n<title>4</title>\n<polygon fill=\"#d7ebfa\" points=\"608.5,-782 453.5,-782 453.5,-699 608.5,-699 608.5,-782\" stroke=\"#000000\"/>\n<text fill=\"#000000\" font-family=\"Times,serif\" font-size=\"14.00\" text-anchor=\"middle\" x=\"531\" y=\"-766.8\">loan &lt;= 1.0</text>\n<text fill=\"#000000\" font-family=\"Times,serif\" font-size=\"14.00\" text-anchor=\"middle\" x=\"531\" y=\"-751.8\">gini = 0.494</text>\n<text fill=\"#000000\" font-family=\"Times,serif\" font-size=\"14.00\" text-anchor=\"middle\" x=\"531\" y=\"-736.8\">samples = 38711</text>\n<text fill=\"#000000\" font-family=\"Times,serif\" font-size=\"14.00\" text-anchor=\"middle\" x=\"531\" y=\"-721.8\">value = [17209, 21502]</text>\n<text fill=\"#000000\" font-family=\"Times,serif\" font-size=\"14.00\" text-anchor=\"middle\" x=\"531\" y=\"-706.8\">class = 1</text>\n</g>\n<!-- 2&#45;&gt;4 -->\n<g class=\"edge\" id=\"edge4\">\n<title>2-&gt;4</title>\n<path d=\"M480.9309,-817.8796C486.5837,-809.1434 492.6033,-799.8404 498.4366,-790.8253\" fill=\"none\" stroke=\"#000000\"/>\n<polygon fill=\"#000000\" points=\"501.4601,-792.5952 503.9542,-782.2981 495.5831,-788.7924 501.4601,-792.5952\" stroke=\"#000000\"/>\n</g>\n<!-- 5 -->\n<g class=\"node\" id=\"node6\">\n<title>5</title>\n<polygon fill=\"#c6e3f8\" points=\"525.5,-663 370.5,-663 370.5,-580 525.5,-580 525.5,-663\" stroke=\"#000000\"/>\n<text fill=\"#000000\" font-family=\"Times,serif\" font-size=\"14.00\" text-anchor=\"middle\" x=\"448\" y=\"-647.8\">loan &lt;= 0.0</text>\n<text fill=\"#000000\" font-family=\"Times,serif\" font-size=\"14.00\" text-anchor=\"middle\" x=\"448\" y=\"-632.8\">gini = 0.486</text>\n<text fill=\"#000000\" font-family=\"Times,serif\" font-size=\"14.00\" text-anchor=\"middle\" x=\"448\" y=\"-617.8\">samples = 34321</text>\n<text fill=\"#000000\" font-family=\"Times,serif\" font-size=\"14.00\" text-anchor=\"middle\" x=\"448\" y=\"-602.8\">value = [14279, 20042]</text>\n<text fill=\"#000000\" font-family=\"Times,serif\" font-size=\"14.00\" text-anchor=\"middle\" x=\"448\" y=\"-587.8\">class = 1</text>\n</g>\n<!-- 4&#45;&gt;5 -->\n<g class=\"edge\" id=\"edge5\">\n<title>4-&gt;5</title>\n<path d=\"M501.9706,-698.8796C495.8145,-690.0534 489.2549,-680.6485 482.9064,-671.5466\" fill=\"none\" stroke=\"#000000\"/>\n<polygon fill=\"#000000\" points=\"485.7448,-669.4978 477.1533,-663.2981 480.0033,-673.5024 485.7448,-669.4978\" stroke=\"#000000\"/>\n</g>\n<!-- 6 -->\n<g class=\"node\" id=\"node19\">\n<title>6</title>\n<polygon fill=\"#f2c09c\" points=\"684,-655.5 544,-655.5 544,-587.5 684,-587.5 684,-655.5\" stroke=\"#000000\"/>\n<text fill=\"#000000\" font-family=\"Times,serif\" font-size=\"14.00\" text-anchor=\"middle\" x=\"614\" y=\"-640.3\">gini = 0.444</text>\n<text fill=\"#000000\" font-family=\"Times,serif\" font-size=\"14.00\" text-anchor=\"middle\" x=\"614\" y=\"-625.3\">samples = 4390</text>\n<text fill=\"#000000\" font-family=\"Times,serif\" font-size=\"14.00\" text-anchor=\"middle\" x=\"614\" y=\"-610.3\">value = [2930, 1460]</text>\n<text fill=\"#000000\" font-family=\"Times,serif\" font-size=\"14.00\" text-anchor=\"middle\" x=\"614\" y=\"-595.3\">class = 0</text>\n</g>\n<!-- 4&#45;&gt;6 -->\n<g class=\"edge\" id=\"edge18\">\n<title>4-&gt;6</title>\n<path d=\"M560.0294,-698.8796C567.8523,-687.6636 576.327,-675.5131 584.1917,-664.2372\" fill=\"none\" stroke=\"#000000\"/>\n<polygon fill=\"#000000\" points=\"587.216,-666.0192 590.0661,-655.8149 581.4746,-662.0147 587.216,-666.0192\" stroke=\"#000000\"/>\n</g>\n<!-- 7 -->\n<g class=\"node\" id=\"node7\">\n<title>7</title>\n<polygon fill=\"#cee7f9\" points=\"448.5,-544 293.5,-544 293.5,-461 448.5,-461 448.5,-544\" stroke=\"#000000\"/>\n<text fill=\"#000000\" font-family=\"Times,serif\" font-size=\"14.00\" text-anchor=\"middle\" x=\"371\" y=\"-528.8\">housing &lt;= 0.999</text>\n<text fill=\"#000000\" font-family=\"Times,serif\" font-size=\"14.00\" text-anchor=\"middle\" x=\"371\" y=\"-513.8\">gini = 0.49</text>\n<text fill=\"#000000\" font-family=\"Times,serif\" font-size=\"14.00\" text-anchor=\"middle\" x=\"371\" y=\"-498.8\">samples = 33192</text>\n<text fill=\"#000000\" font-family=\"Times,serif\" font-size=\"14.00\" text-anchor=\"middle\" x=\"371\" y=\"-483.8\">value = [14279, 18913]</text>\n<text fill=\"#000000\" font-family=\"Times,serif\" font-size=\"14.00\" text-anchor=\"middle\" x=\"371\" y=\"-468.8\">class = 1</text>\n</g>\n<!-- 5&#45;&gt;7 -->\n<g class=\"edge\" id=\"edge6\">\n<title>5-&gt;7</title>\n<path d=\"M421.0691,-579.8796C415.4163,-571.1434 409.3967,-561.8404 403.5634,-552.8253\" fill=\"none\" stroke=\"#000000\"/>\n<polygon fill=\"#000000\" points=\"406.4169,-550.7924 398.0458,-544.2981 400.5399,-554.5952 406.4169,-550.7924\" stroke=\"#000000\"/>\n</g>\n<!-- 8 -->\n<g class=\"node\" id=\"node18\">\n<title>8</title>\n<polygon fill=\"#399de5\" points=\"583,-536.5 467,-536.5 467,-468.5 583,-468.5 583,-536.5\" stroke=\"#000000\"/>\n<text fill=\"#000000\" font-family=\"Times,serif\" font-size=\"14.00\" text-anchor=\"middle\" x=\"525\" y=\"-521.3\">gini = 0.0</text>\n<text fill=\"#000000\" font-family=\"Times,serif\" font-size=\"14.00\" text-anchor=\"middle\" x=\"525\" y=\"-506.3\">samples = 1129</text>\n<text fill=\"#000000\" font-family=\"Times,serif\" font-size=\"14.00\" text-anchor=\"middle\" x=\"525\" y=\"-491.3\">value = [0, 1129]</text>\n<text fill=\"#000000\" font-family=\"Times,serif\" font-size=\"14.00\" text-anchor=\"middle\" x=\"525\" y=\"-476.3\">class = 1</text>\n</g>\n<!-- 5&#45;&gt;8 -->\n<g class=\"edge\" id=\"edge17\">\n<title>5-&gt;8</title>\n<path d=\"M474.9309,-579.8796C482.1883,-568.6636 490.0503,-556.5131 497.3465,-545.2372\" fill=\"none\" stroke=\"#000000\"/>\n<polygon fill=\"#000000\" points=\"500.3022,-547.112 502.7962,-536.8149 494.4252,-543.3093 500.3022,-547.112\" stroke=\"#000000\"/>\n</g>\n<!-- 9 -->\n<g class=\"node\" id=\"node8\">\n<title>9</title>\n<polygon fill=\"#abd5f4\" points=\"364,-425 218,-425 218,-342 364,-342 364,-425\" stroke=\"#000000\"/>\n<text fill=\"#000000\" font-family=\"Times,serif\" font-size=\"14.00\" text-anchor=\"middle\" x=\"291\" y=\"-409.8\">housing &lt;= 0.0</text>\n<text fill=\"#000000\" font-family=\"Times,serif\" font-size=\"14.00\" text-anchor=\"middle\" x=\"291\" y=\"-394.8\">gini = 0.463</text>\n<text fill=\"#000000\" font-family=\"Times,serif\" font-size=\"14.00\" text-anchor=\"middle\" x=\"291\" y=\"-379.8\">samples = 18461</text>\n<text fill=\"#000000\" font-family=\"Times,serif\" font-size=\"14.00\" text-anchor=\"middle\" x=\"291\" y=\"-364.8\">value = [6730, 11731]</text>\n<text fill=\"#000000\" font-family=\"Times,serif\" font-size=\"14.00\" text-anchor=\"middle\" x=\"291\" y=\"-349.8\">class = 1</text>\n</g>\n<!-- 7&#45;&gt;9 -->\n<g class=\"edge\" id=\"edge7\">\n<title>7-&gt;9</title>\n<path d=\"M343.0199,-460.8796C337.1469,-452.1434 330.8927,-442.8404 324.8321,-433.8253\" fill=\"none\" stroke=\"#000000\"/>\n<polygon fill=\"#000000\" points=\"327.5834,-431.6444 319.0995,-425.2981 321.7741,-435.5498 327.5834,-431.6444\" stroke=\"#000000\"/>\n</g>\n<!-- 10 -->\n<g class=\"node\" id=\"node15\">\n<title>10</title>\n<polygon fill=\"#fef9f5\" points=\"522,-425 382,-425 382,-342 522,-342 522,-425\" stroke=\"#000000\"/>\n<text fill=\"#000000\" font-family=\"Times,serif\" font-size=\"14.00\" text-anchor=\"middle\" x=\"452\" y=\"-409.8\">campaign &lt;= 5.0</text>\n<text fill=\"#000000\" font-family=\"Times,serif\" font-size=\"14.00\" text-anchor=\"middle\" x=\"452\" y=\"-394.8\">gini = 0.5</text>\n<text fill=\"#000000\" font-family=\"Times,serif\" font-size=\"14.00\" text-anchor=\"middle\" x=\"452\" y=\"-379.8\">samples = 14731</text>\n<text fill=\"#000000\" font-family=\"Times,serif\" font-size=\"14.00\" text-anchor=\"middle\" x=\"452\" y=\"-364.8\">value = [7549, 7182]</text>\n<text fill=\"#000000\" font-family=\"Times,serif\" font-size=\"14.00\" text-anchor=\"middle\" x=\"452\" y=\"-349.8\">class = 0</text>\n</g>\n<!-- 7&#45;&gt;10 -->\n<g class=\"edge\" id=\"edge14\">\n<title>7-&gt;10</title>\n<path d=\"M399.3299,-460.8796C405.2763,-452.1434 411.6086,-442.8404 417.745,-433.8253\" fill=\"none\" stroke=\"#000000\"/>\n<polygon fill=\"#000000\" points=\"420.8156,-435.5342 423.5492,-425.2981 415.0289,-431.5953 420.8156,-435.5342\" stroke=\"#000000\"/>\n</g>\n<!-- 11 -->\n<g class=\"node\" id=\"node9\">\n<title>11</title>\n<polygon fill=\"#b3d9f5\" points=\"222.5,-306 75.5,-306 75.5,-223 222.5,-223 222.5,-306\" stroke=\"#000000\"/>\n<text fill=\"#000000\" font-family=\"Times,serif\" font-size=\"14.00\" text-anchor=\"middle\" x=\"149\" y=\"-290.8\">campaign &lt;= 1.994</text>\n<text fill=\"#000000\" font-family=\"Times,serif\" font-size=\"14.00\" text-anchor=\"middle\" x=\"149\" y=\"-275.8\">gini = 0.472</text>\n<text fill=\"#000000\" font-family=\"Times,serif\" font-size=\"14.00\" text-anchor=\"middle\" x=\"149\" y=\"-260.8\">samples = 17643</text>\n<text fill=\"#000000\" font-family=\"Times,serif\" font-size=\"14.00\" text-anchor=\"middle\" x=\"149\" y=\"-245.8\">value = [6730, 10913]</text>\n<text fill=\"#000000\" font-family=\"Times,serif\" font-size=\"14.00\" text-anchor=\"middle\" x=\"149\" y=\"-230.8\">class = 1</text>\n</g>\n<!-- 9&#45;&gt;11 -->\n<g class=\"edge\" id=\"edge8\">\n<title>9-&gt;11</title>\n<path d=\"M241.3353,-341.8796C230.1584,-332.513 218.2038,-322.4948 206.7288,-312.8784\" fill=\"none\" stroke=\"#000000\"/>\n<polygon fill=\"#000000\" points=\"208.7893,-310.0386 198.8767,-306.2981 204.2931,-315.4037 208.7893,-310.0386\" stroke=\"#000000\"/>\n</g>\n<!-- 12 -->\n<g class=\"node\" id=\"node14\">\n<title>12</title>\n<polygon fill=\"#399de5\" points=\"351,-298.5 241,-298.5 241,-230.5 351,-230.5 351,-298.5\" stroke=\"#000000\"/>\n<text fill=\"#000000\" font-family=\"Times,serif\" font-size=\"14.00\" text-anchor=\"middle\" x=\"296\" y=\"-283.3\">gini = 0.0</text>\n<text fill=\"#000000\" font-family=\"Times,serif\" font-size=\"14.00\" text-anchor=\"middle\" x=\"296\" y=\"-268.3\">samples = 818</text>\n<text fill=\"#000000\" font-family=\"Times,serif\" font-size=\"14.00\" text-anchor=\"middle\" x=\"296\" y=\"-253.3\">value = [0, 818]</text>\n<text fill=\"#000000\" font-family=\"Times,serif\" font-size=\"14.00\" text-anchor=\"middle\" x=\"296\" y=\"-238.3\">class = 1</text>\n</g>\n<!-- 9&#45;&gt;12 -->\n<g class=\"edge\" id=\"edge13\">\n<title>9-&gt;12</title>\n<path d=\"M292.7488,-341.8796C293.1969,-331.2134 293.6806,-319.7021 294.1344,-308.9015\" fill=\"none\" stroke=\"#000000\"/>\n<polygon fill=\"#000000\" points=\"297.6352,-308.9531 294.5582,-298.8149 290.6414,-308.6592 297.6352,-308.9531\" stroke=\"#000000\"/>\n</g>\n<!-- 13 -->\n<g class=\"node\" id=\"node10\">\n<title>13</title>\n<polygon fill=\"#83c2ef\" points=\"140,-179.5 0,-179.5 0,-111.5 140,-111.5 140,-179.5\" stroke=\"#000000\"/>\n<text fill=\"#000000\" font-family=\"Times,serif\" font-size=\"14.00\" text-anchor=\"middle\" x=\"70\" y=\"-164.3\">gini = 0.397</text>\n<text fill=\"#000000\" font-family=\"Times,serif\" font-size=\"14.00\" text-anchor=\"middle\" x=\"70\" y=\"-149.3\">samples = 6858</text>\n<text fill=\"#000000\" font-family=\"Times,serif\" font-size=\"14.00\" text-anchor=\"middle\" x=\"70\" y=\"-134.3\">value = [1873, 4985]</text>\n<text fill=\"#000000\" font-family=\"Times,serif\" font-size=\"14.00\" text-anchor=\"middle\" x=\"70\" y=\"-119.3\">class = 1</text>\n</g>\n<!-- 11&#45;&gt;13 -->\n<g class=\"edge\" id=\"edge9\">\n<title>11-&gt;13</title>\n<path d=\"M121.3696,-222.8796C113.9237,-211.6636 105.8575,-199.5131 98.3718,-188.2372\" fill=\"none\" stroke=\"#000000\"/>\n<polygon fill=\"#000000\" points=\"101.2273,-186.2104 92.7805,-179.8149 95.3954,-190.082 101.2273,-186.2104\" stroke=\"#000000\"/>\n</g>\n<!-- 14 -->\n<g class=\"node\" id=\"node11\">\n<title>14</title>\n<polygon fill=\"#dbedfa\" points=\"298,-187 158,-187 158,-104 298,-104 298,-187\" stroke=\"#000000\"/>\n<text fill=\"#000000\" font-family=\"Times,serif\" font-size=\"14.00\" text-anchor=\"middle\" x=\"228\" y=\"-171.8\">balance &lt;= 0.073</text>\n<text fill=\"#000000\" font-family=\"Times,serif\" font-size=\"14.00\" text-anchor=\"middle\" x=\"228\" y=\"-156.8\">gini = 0.495</text>\n<text fill=\"#000000\" font-family=\"Times,serif\" font-size=\"14.00\" text-anchor=\"middle\" x=\"228\" y=\"-141.8\">samples = 10785</text>\n<text fill=\"#000000\" font-family=\"Times,serif\" font-size=\"14.00\" text-anchor=\"middle\" x=\"228\" y=\"-126.8\">value = [4857, 5928]</text>\n<text fill=\"#000000\" font-family=\"Times,serif\" font-size=\"14.00\" text-anchor=\"middle\" x=\"228\" y=\"-111.8\">class = 1</text>\n</g>\n<!-- 11&#45;&gt;14 -->\n<g class=\"edge\" id=\"edge10\">\n<title>11-&gt;14</title>\n<path d=\"M176.6304,-222.8796C182.43,-214.1434 188.6059,-204.8404 194.5908,-195.8253\" fill=\"none\" stroke=\"#000000\"/>\n<polygon fill=\"#000000\" points=\"197.6368,-197.5652 200.2517,-187.2981 191.8049,-193.6935 197.6368,-197.5652\" stroke=\"#000000\"/>\n</g>\n<!-- 15 -->\n<g class=\"node\" id=\"node12\">\n<title>15</title>\n<polygon fill=\"#f0b68c\" points=\"215.5,-68 90.5,-68 90.5,0 215.5,0 215.5,-68\" stroke=\"#000000\"/>\n<text fill=\"#000000\" font-family=\"Times,serif\" font-size=\"14.00\" text-anchor=\"middle\" x=\"153\" y=\"-52.8\">gini = 0.417</text>\n<text fill=\"#000000\" font-family=\"Times,serif\" font-size=\"14.00\" text-anchor=\"middle\" x=\"153\" y=\"-37.8\">samples = 1195</text>\n<text fill=\"#000000\" font-family=\"Times,serif\" font-size=\"14.00\" text-anchor=\"middle\" x=\"153\" y=\"-22.8\">value = [841, 354]</text>\n<text fill=\"#000000\" font-family=\"Times,serif\" font-size=\"14.00\" text-anchor=\"middle\" x=\"153\" y=\"-7.8\">class = 0</text>\n</g>\n<!-- 14&#45;&gt;15 -->\n<g class=\"edge\" id=\"edge11\">\n<title>14-&gt;15</title>\n<path d=\"M200.0728,-103.9815C194.0762,-95.0666 187.7296,-85.6313 181.7041,-76.6734\" fill=\"none\" stroke=\"#000000\"/>\n<polygon fill=\"#000000\" points=\"184.5328,-74.6078 176.0473,-68.2637 178.7245,-78.5147 184.5328,-74.6078\" stroke=\"#000000\"/>\n</g>\n<!-- 16 -->\n<g class=\"node\" id=\"node13\">\n<title>16</title>\n<polygon fill=\"#c8e4f8\" points=\"374,-68 234,-68 234,0 374,0 374,-68\" stroke=\"#000000\"/>\n<text fill=\"#000000\" font-family=\"Times,serif\" font-size=\"14.00\" text-anchor=\"middle\" x=\"304\" y=\"-52.8\">gini = 0.487</text>\n<text fill=\"#000000\" font-family=\"Times,serif\" font-size=\"14.00\" text-anchor=\"middle\" x=\"304\" y=\"-37.8\">samples = 9590</text>\n<text fill=\"#000000\" font-family=\"Times,serif\" font-size=\"14.00\" text-anchor=\"middle\" x=\"304\" y=\"-22.8\">value = [4016, 5574]</text>\n<text fill=\"#000000\" font-family=\"Times,serif\" font-size=\"14.00\" text-anchor=\"middle\" x=\"304\" y=\"-7.8\">class = 1</text>\n</g>\n<!-- 14&#45;&gt;16 -->\n<g class=\"edge\" id=\"edge12\">\n<title>14-&gt;16</title>\n<path d=\"M256.2996,-103.9815C262.3762,-95.0666 268.8074,-85.6313 274.9132,-76.6734\" fill=\"none\" stroke=\"#000000\"/>\n<polygon fill=\"#000000\" points=\"277.9052,-78.498 280.6454,-68.2637 272.1211,-74.5555 277.9052,-78.498\" stroke=\"#000000\"/>\n</g>\n<!-- 17 -->\n<g class=\"node\" id=\"node16\">\n<title>17</title>\n<polygon fill=\"#f7fbfe\" points=\"518,-298.5 378,-298.5 378,-230.5 518,-230.5 518,-298.5\" stroke=\"#000000\"/>\n<text fill=\"#000000\" font-family=\"Times,serif\" font-size=\"14.00\" text-anchor=\"middle\" x=\"448\" y=\"-283.3\">gini = 0.5</text>\n<text fill=\"#000000\" font-family=\"Times,serif\" font-size=\"14.00\" text-anchor=\"middle\" x=\"448\" y=\"-268.3\">samples = 13440</text>\n<text fill=\"#000000\" font-family=\"Times,serif\" font-size=\"14.00\" text-anchor=\"middle\" x=\"448\" y=\"-253.3\">value = [6584, 6856]</text>\n<text fill=\"#000000\" font-family=\"Times,serif\" font-size=\"14.00\" text-anchor=\"middle\" x=\"448\" y=\"-238.3\">class = 1</text>\n</g>\n<!-- 10&#45;&gt;17 -->\n<g class=\"edge\" id=\"edge15\">\n<title>10-&gt;17</title>\n<path d=\"M450.601,-341.8796C450.2425,-331.2134 449.8555,-319.7021 449.4925,-308.9015\" fill=\"none\" stroke=\"#000000\"/>\n<polygon fill=\"#000000\" points=\"452.9875,-308.6917 449.1534,-298.8149 445.9915,-308.9269 452.9875,-308.6917\" stroke=\"#000000\"/>\n</g>\n<!-- 18 -->\n<g class=\"node\" id=\"node17\">\n<title>18</title>\n<polygon fill=\"#eeac7c\" points=\"661.5,-298.5 536.5,-298.5 536.5,-230.5 661.5,-230.5 661.5,-298.5\" stroke=\"#000000\"/>\n<text fill=\"#000000\" font-family=\"Times,serif\" font-size=\"14.00\" text-anchor=\"middle\" x=\"599\" y=\"-283.3\">gini = 0.378</text>\n<text fill=\"#000000\" font-family=\"Times,serif\" font-size=\"14.00\" text-anchor=\"middle\" x=\"599\" y=\"-268.3\">samples = 1291</text>\n<text fill=\"#000000\" font-family=\"Times,serif\" font-size=\"14.00\" text-anchor=\"middle\" x=\"599\" y=\"-253.3\">value = [965, 326]</text>\n<text fill=\"#000000\" font-family=\"Times,serif\" font-size=\"14.00\" text-anchor=\"middle\" x=\"599\" y=\"-238.3\">class = 0</text>\n</g>\n<!-- 10&#45;&gt;18 -->\n<g class=\"edge\" id=\"edge16\">\n<title>10-&gt;18</title>\n<path d=\"M503.4135,-341.8796C518.0835,-330.0038 534.0477,-317.0804 548.6533,-305.2568\" fill=\"none\" stroke=\"#000000\"/>\n<polygon fill=\"#000000\" points=\"551.0407,-307.8273 556.611,-298.8149 546.6363,-302.3866 551.0407,-307.8273\" stroke=\"#000000\"/>\n</g>\n</g>\n</svg>"
          },
          "metadata": {
            "tags": []
          }
        }
      ]
    },
    {
      "cell_type": "markdown",
      "metadata": {
        "id": "hPLO9y0C7JWn"
      },
      "source": [
        "Train accuracy is higher so model is overfitting,hence use XGBoost with hyperparameter tuning for classification"
      ]
    },
    {
      "cell_type": "markdown",
      "metadata": {
        "id": "A2Qfwq0I7R-l"
      },
      "source": [
        "# 3. XGBoost Classifier:"
      ]
    },
    {
      "cell_type": "code",
      "metadata": {
        "id": "aiN53VLP76bD"
      },
      "source": [
        "from xgboost import XGBClassifier"
      ],
      "execution_count": 200,
      "outputs": []
    },
    {
      "cell_type": "code",
      "metadata": {
        "id": "O9wJTtXG7RQN",
        "outputId": "f54f9478-5c0c-4975-ed58-02a8f360b7c2",
        "colab": {
          "base_uri": "https://localhost:8080/"
        }
      },
      "source": [
        "from sklearn.model_selection import RandomizedSearchCV\n",
        "\n",
        "# Number of trees\n",
        "n_estimators = [50,80,100]\n",
        "\n",
        "# Maximum depth of trees\n",
        "max_depth = [4,6,8]\n",
        "\n",
        "# Minimum number of samples required to split a node\n",
        "min_samples_split = [50,100,150]\n",
        "\n",
        "# Minimum number of samples required at each leaf node\n",
        "min_samples_leaf = [40,50]\n",
        "\n",
        "# HYperparameter Dict\n",
        "param_dict = {'n_estimators' : n_estimators,\n",
        "              'max_depth' : max_depth,\n",
        "              'min_samples_split' : min_samples_split,\n",
        "              'min_samples_leaf' : min_samples_leaf}\n",
        "\n",
        "# Create an instance of the XGBoost\n",
        "xgb_model = XGBClassifier(learning_rate=0.1)\n",
        "\n",
        "#RandomSearch\n",
        "xgb_random = RandomizedSearchCV(xgb_model,param_dict,verbose=2,cv=5)\n",
        "\n",
        "\n",
        "xgb_random.fit(X_train,y_train)"
      ],
      "execution_count": 201,
      "outputs": [
        {
          "output_type": "stream",
          "text": [
            "Fitting 5 folds for each of 10 candidates, totalling 50 fits\n",
            "[CV] n_estimators=100, min_samples_split=50, min_samples_leaf=40, max_depth=8 \n"
          ],
          "name": "stdout"
        },
        {
          "output_type": "stream",
          "text": [
            "[Parallel(n_jobs=1)]: Using backend SequentialBackend with 1 concurrent workers.\n"
          ],
          "name": "stderr"
        },
        {
          "output_type": "stream",
          "text": [
            "[CV]  n_estimators=100, min_samples_split=50, min_samples_leaf=40, max_depth=8, total=   6.5s\n",
            "[CV] n_estimators=100, min_samples_split=50, min_samples_leaf=40, max_depth=8 \n"
          ],
          "name": "stdout"
        },
        {
          "output_type": "stream",
          "text": [
            "[Parallel(n_jobs=1)]: Done   1 out of   1 | elapsed:    6.5s remaining:    0.0s\n"
          ],
          "name": "stderr"
        },
        {
          "output_type": "stream",
          "text": [
            "[CV]  n_estimators=100, min_samples_split=50, min_samples_leaf=40, max_depth=8, total=   6.3s\n",
            "[CV] n_estimators=100, min_samples_split=50, min_samples_leaf=40, max_depth=8 \n",
            "[CV]  n_estimators=100, min_samples_split=50, min_samples_leaf=40, max_depth=8, total=   6.4s\n",
            "[CV] n_estimators=100, min_samples_split=50, min_samples_leaf=40, max_depth=8 \n",
            "[CV]  n_estimators=100, min_samples_split=50, min_samples_leaf=40, max_depth=8, total=   6.4s\n",
            "[CV] n_estimators=100, min_samples_split=50, min_samples_leaf=40, max_depth=8 \n",
            "[CV]  n_estimators=100, min_samples_split=50, min_samples_leaf=40, max_depth=8, total=   6.2s\n",
            "[CV] n_estimators=50, min_samples_split=150, min_samples_leaf=40, max_depth=8 \n",
            "[CV]  n_estimators=50, min_samples_split=150, min_samples_leaf=40, max_depth=8, total=   3.3s\n",
            "[CV] n_estimators=50, min_samples_split=150, min_samples_leaf=40, max_depth=8 \n",
            "[CV]  n_estimators=50, min_samples_split=150, min_samples_leaf=40, max_depth=8, total=   3.3s\n",
            "[CV] n_estimators=50, min_samples_split=150, min_samples_leaf=40, max_depth=8 \n",
            "[CV]  n_estimators=50, min_samples_split=150, min_samples_leaf=40, max_depth=8, total=   3.3s\n",
            "[CV] n_estimators=50, min_samples_split=150, min_samples_leaf=40, max_depth=8 \n",
            "[CV]  n_estimators=50, min_samples_split=150, min_samples_leaf=40, max_depth=8, total=   3.3s\n",
            "[CV] n_estimators=50, min_samples_split=150, min_samples_leaf=40, max_depth=8 \n",
            "[CV]  n_estimators=50, min_samples_split=150, min_samples_leaf=40, max_depth=8, total=   3.2s\n",
            "[CV] n_estimators=50, min_samples_split=150, min_samples_leaf=50, max_depth=6 \n",
            "[CV]  n_estimators=50, min_samples_split=150, min_samples_leaf=50, max_depth=6, total=   2.3s\n",
            "[CV] n_estimators=50, min_samples_split=150, min_samples_leaf=50, max_depth=6 \n",
            "[CV]  n_estimators=50, min_samples_split=150, min_samples_leaf=50, max_depth=6, total=   2.3s\n",
            "[CV] n_estimators=50, min_samples_split=150, min_samples_leaf=50, max_depth=6 \n",
            "[CV]  n_estimators=50, min_samples_split=150, min_samples_leaf=50, max_depth=6, total=   2.3s\n",
            "[CV] n_estimators=50, min_samples_split=150, min_samples_leaf=50, max_depth=6 \n",
            "[CV]  n_estimators=50, min_samples_split=150, min_samples_leaf=50, max_depth=6, total=   2.3s\n",
            "[CV] n_estimators=50, min_samples_split=150, min_samples_leaf=50, max_depth=6 \n",
            "[CV]  n_estimators=50, min_samples_split=150, min_samples_leaf=50, max_depth=6, total=   2.3s\n",
            "[CV] n_estimators=100, min_samples_split=100, min_samples_leaf=40, max_depth=6 \n",
            "[CV]  n_estimators=100, min_samples_split=100, min_samples_leaf=40, max_depth=6, total=   4.5s\n",
            "[CV] n_estimators=100, min_samples_split=100, min_samples_leaf=40, max_depth=6 \n",
            "[CV]  n_estimators=100, min_samples_split=100, min_samples_leaf=40, max_depth=6, total=   4.6s\n",
            "[CV] n_estimators=100, min_samples_split=100, min_samples_leaf=40, max_depth=6 \n",
            "[CV]  n_estimators=100, min_samples_split=100, min_samples_leaf=40, max_depth=6, total=   4.6s\n",
            "[CV] n_estimators=100, min_samples_split=100, min_samples_leaf=40, max_depth=6 \n",
            "[CV]  n_estimators=100, min_samples_split=100, min_samples_leaf=40, max_depth=6, total=   4.6s\n",
            "[CV] n_estimators=100, min_samples_split=100, min_samples_leaf=40, max_depth=6 \n",
            "[CV]  n_estimators=100, min_samples_split=100, min_samples_leaf=40, max_depth=6, total=   4.5s\n",
            "[CV] n_estimators=100, min_samples_split=100, min_samples_leaf=50, max_depth=4 \n",
            "[CV]  n_estimators=100, min_samples_split=100, min_samples_leaf=50, max_depth=4, total=   3.0s\n",
            "[CV] n_estimators=100, min_samples_split=100, min_samples_leaf=50, max_depth=4 \n",
            "[CV]  n_estimators=100, min_samples_split=100, min_samples_leaf=50, max_depth=4, total=   3.0s\n",
            "[CV] n_estimators=100, min_samples_split=100, min_samples_leaf=50, max_depth=4 \n",
            "[CV]  n_estimators=100, min_samples_split=100, min_samples_leaf=50, max_depth=4, total=   3.0s\n",
            "[CV] n_estimators=100, min_samples_split=100, min_samples_leaf=50, max_depth=4 \n",
            "[CV]  n_estimators=100, min_samples_split=100, min_samples_leaf=50, max_depth=4, total=   3.0s\n",
            "[CV] n_estimators=100, min_samples_split=100, min_samples_leaf=50, max_depth=4 \n",
            "[CV]  n_estimators=100, min_samples_split=100, min_samples_leaf=50, max_depth=4, total=   3.0s\n",
            "[CV] n_estimators=100, min_samples_split=50, min_samples_leaf=50, max_depth=8 \n",
            "[CV]  n_estimators=100, min_samples_split=50, min_samples_leaf=50, max_depth=8, total=   6.4s\n",
            "[CV] n_estimators=100, min_samples_split=50, min_samples_leaf=50, max_depth=8 \n",
            "[CV]  n_estimators=100, min_samples_split=50, min_samples_leaf=50, max_depth=8, total=   6.4s\n",
            "[CV] n_estimators=100, min_samples_split=50, min_samples_leaf=50, max_depth=8 \n",
            "[CV]  n_estimators=100, min_samples_split=50, min_samples_leaf=50, max_depth=8, total=   6.4s\n",
            "[CV] n_estimators=100, min_samples_split=50, min_samples_leaf=50, max_depth=8 \n",
            "[CV]  n_estimators=100, min_samples_split=50, min_samples_leaf=50, max_depth=8, total=   6.4s\n",
            "[CV] n_estimators=100, min_samples_split=50, min_samples_leaf=50, max_depth=8 \n",
            "[CV]  n_estimators=100, min_samples_split=50, min_samples_leaf=50, max_depth=8, total=   6.2s\n",
            "[CV] n_estimators=100, min_samples_split=150, min_samples_leaf=40, max_depth=6 \n",
            "[CV]  n_estimators=100, min_samples_split=150, min_samples_leaf=40, max_depth=6, total=   4.5s\n",
            "[CV] n_estimators=100, min_samples_split=150, min_samples_leaf=40, max_depth=6 \n",
            "[CV]  n_estimators=100, min_samples_split=150, min_samples_leaf=40, max_depth=6, total=   4.5s\n",
            "[CV] n_estimators=100, min_samples_split=150, min_samples_leaf=40, max_depth=6 \n",
            "[CV]  n_estimators=100, min_samples_split=150, min_samples_leaf=40, max_depth=6, total=   4.6s\n",
            "[CV] n_estimators=100, min_samples_split=150, min_samples_leaf=40, max_depth=6 \n",
            "[CV]  n_estimators=100, min_samples_split=150, min_samples_leaf=40, max_depth=6, total=   4.5s\n",
            "[CV] n_estimators=100, min_samples_split=150, min_samples_leaf=40, max_depth=6 \n",
            "[CV]  n_estimators=100, min_samples_split=150, min_samples_leaf=40, max_depth=6, total=   4.5s\n",
            "[CV] n_estimators=100, min_samples_split=150, min_samples_leaf=40, max_depth=8 \n",
            "[CV]  n_estimators=100, min_samples_split=150, min_samples_leaf=40, max_depth=8, total=   6.3s\n",
            "[CV] n_estimators=100, min_samples_split=150, min_samples_leaf=40, max_depth=8 \n",
            "[CV]  n_estimators=100, min_samples_split=150, min_samples_leaf=40, max_depth=8, total=   6.3s\n",
            "[CV] n_estimators=100, min_samples_split=150, min_samples_leaf=40, max_depth=8 \n",
            "[CV]  n_estimators=100, min_samples_split=150, min_samples_leaf=40, max_depth=8, total=   6.4s\n",
            "[CV] n_estimators=100, min_samples_split=150, min_samples_leaf=40, max_depth=8 \n",
            "[CV]  n_estimators=100, min_samples_split=150, min_samples_leaf=40, max_depth=8, total=   6.4s\n",
            "[CV] n_estimators=100, min_samples_split=150, min_samples_leaf=40, max_depth=8 \n",
            "[CV]  n_estimators=100, min_samples_split=150, min_samples_leaf=40, max_depth=8, total=   6.3s\n",
            "[CV] n_estimators=50, min_samples_split=100, min_samples_leaf=50, max_depth=8 \n",
            "[CV]  n_estimators=50, min_samples_split=100, min_samples_leaf=50, max_depth=8, total=   3.3s\n",
            "[CV] n_estimators=50, min_samples_split=100, min_samples_leaf=50, max_depth=8 \n",
            "[CV]  n_estimators=50, min_samples_split=100, min_samples_leaf=50, max_depth=8, total=   3.3s\n",
            "[CV] n_estimators=50, min_samples_split=100, min_samples_leaf=50, max_depth=8 \n",
            "[CV]  n_estimators=50, min_samples_split=100, min_samples_leaf=50, max_depth=8, total=   3.3s\n",
            "[CV] n_estimators=50, min_samples_split=100, min_samples_leaf=50, max_depth=8 \n",
            "[CV]  n_estimators=50, min_samples_split=100, min_samples_leaf=50, max_depth=8, total=   3.3s\n",
            "[CV] n_estimators=50, min_samples_split=100, min_samples_leaf=50, max_depth=8 \n",
            "[CV]  n_estimators=50, min_samples_split=100, min_samples_leaf=50, max_depth=8, total=   3.3s\n",
            "[CV] n_estimators=50, min_samples_split=100, min_samples_leaf=40, max_depth=8 \n",
            "[CV]  n_estimators=50, min_samples_split=100, min_samples_leaf=40, max_depth=8, total=   3.3s\n",
            "[CV] n_estimators=50, min_samples_split=100, min_samples_leaf=40, max_depth=8 \n",
            "[CV]  n_estimators=50, min_samples_split=100, min_samples_leaf=40, max_depth=8, total=   3.3s\n",
            "[CV] n_estimators=50, min_samples_split=100, min_samples_leaf=40, max_depth=8 \n",
            "[CV]  n_estimators=50, min_samples_split=100, min_samples_leaf=40, max_depth=8, total=   3.3s\n",
            "[CV] n_estimators=50, min_samples_split=100, min_samples_leaf=40, max_depth=8 \n",
            "[CV]  n_estimators=50, min_samples_split=100, min_samples_leaf=40, max_depth=8, total=   3.3s\n",
            "[CV] n_estimators=50, min_samples_split=100, min_samples_leaf=40, max_depth=8 \n",
            "[CV]  n_estimators=50, min_samples_split=100, min_samples_leaf=40, max_depth=8, total=   3.3s\n"
          ],
          "name": "stdout"
        },
        {
          "output_type": "stream",
          "text": [
            "[Parallel(n_jobs=1)]: Done  50 out of  50 | elapsed:  3.6min finished\n"
          ],
          "name": "stderr"
        },
        {
          "output_type": "execute_result",
          "data": {
            "text/plain": [
              "RandomizedSearchCV(cv=5, error_score=nan,\n",
              "                   estimator=XGBClassifier(base_score=0.5, booster='gbtree',\n",
              "                                           colsample_bylevel=1,\n",
              "                                           colsample_bynode=1,\n",
              "                                           colsample_bytree=1, gamma=0,\n",
              "                                           learning_rate=0.1, max_delta_step=0,\n",
              "                                           max_depth=3, min_child_weight=1,\n",
              "                                           missing=None, n_estimators=100,\n",
              "                                           n_jobs=1, nthread=None,\n",
              "                                           objective='binary:logistic',\n",
              "                                           random_state=0, reg_alpha=0,\n",
              "                                           reg_lambda=1, scale_pos_weight=1,\n",
              "                                           seed=None, silent=None, subsample=1,\n",
              "                                           verbosity=1),\n",
              "                   iid='deprecated', n_iter=10, n_jobs=None,\n",
              "                   param_distributions={'max_depth': [4, 6, 8],\n",
              "                                        'min_samples_leaf': [40, 50],\n",
              "                                        'min_samples_split': [50, 100, 150],\n",
              "                                        'n_estimators': [50, 80, 100]},\n",
              "                   pre_dispatch='2*n_jobs', random_state=None, refit=True,\n",
              "                   return_train_score=False, scoring=None, verbose=2)"
            ]
          },
          "metadata": {
            "tags": []
          },
          "execution_count": 201
        }
      ]
    },
    {
      "cell_type": "code",
      "metadata": {
        "id": "RXKfRmzX6iAk"
      },
      "source": [
        "#Building optimal model on the best estimators\n",
        "xgb_model = xgb_random.best_estimator_"
      ],
      "execution_count": 202,
      "outputs": []
    },
    {
      "cell_type": "code",
      "metadata": {
        "id": "Gek_VNxc9cLS"
      },
      "source": [
        "# make predictions for test data\n",
        "y_pred = xgb_model.predict(X_test)"
      ],
      "execution_count": 203,
      "outputs": []
    },
    {
      "cell_type": "code",
      "metadata": {
        "id": "QeSh4m1S9hBi"
      },
      "source": [
        "train.append(f1_score(y_train,xgb_model.predict(X_train)))\n",
        "\n",
        "test.append(f1_score(y_test,y_pred))\n",
        "\n",
        "model.append('XGBoost')"
      ],
      "execution_count": 205,
      "outputs": []
    },
    {
      "cell_type": "code",
      "metadata": {
        "id": "p7KLhX96-j-l"
      },
      "source": [
        "#Putting scores in datat frame\n",
        "\n",
        "scores= pd.DataFrame({'F1_score train':train, 'F1_score test':test, 'Model':model})"
      ],
      "execution_count": 206,
      "outputs": []
    },
    {
      "cell_type": "code",
      "metadata": {
        "id": "CIWp1TR9-1-O",
        "outputId": "9c43367d-aa44-432d-9713-deed43cd7a04",
        "colab": {
          "base_uri": "https://localhost:8080/",
          "height": 297
        }
      },
      "source": [
        "#plotting scores\n",
        "\n",
        "ax=plt.figure(figsize=(20,10))\n",
        "# creating subplots\n",
        "ax = plt.subplots()\n",
        "# plotting columns\n",
        "ax = sns.pointplot(x=scores[\"F1_score train\"], y=scores[\"Model\"], color='b',alpha=0.2,labels=('F1_score train'))\n",
        "ax = sns.pointplot(x=scores[\"F1_score test\"], y=scores[\"Model\"], color='r',alpha=0.7,labels=('F1_score test'))\n",
        "# renaming the axes\n",
        "ax.set(xlabel=\"F1_Score\", ylabel=\"Model\")\n",
        "ax.legend(handles=ax.lines[::len(scores)+1], labels=[\"F1_score test\",\"F1_score train\"])\n",
        "\n",
        "\n",
        "# visulaizing illustration\n",
        "plt.show()"
      ],
      "execution_count": 207,
      "outputs": [
        {
          "output_type": "display_data",
          "data": {
            "text/plain": [
              "<Figure size 1440x720 with 0 Axes>"
            ]
          },
          "metadata": {
            "tags": []
          }
        },
        {
          "output_type": "display_data",
          "data": {
            "image/png": "[encoded data removed]",
            "text/plain": [
              "<Figure size 432x288 with 1 Axes>"
            ]
          },
          "metadata": {
            "tags": [],
            "needs_background": "light"
          }
        }
      ]
    },
    {
      "cell_type": "code",
      "metadata": {
        "id": "VSOHveU1_VZd"
      },
      "source": [
        ""
      ],
      "execution_count": null,
      "outputs": []
    }
  ]
}